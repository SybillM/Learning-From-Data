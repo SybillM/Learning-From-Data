{
 "cells": [
  {
   "cell_type": "code",
   "execution_count": 1,
   "id": "d3b0ac66",
   "metadata": {},
   "outputs": [
    {
     "name": "stdout",
     "output_type": "stream",
     "text": [
      "Requirement already satisfied: pandas in c:\\python\\python311\\lib\\site-packages (2.0.0)\n",
      "Requirement already satisfied: python-dateutil>=2.8.2 in c:\\python\\python311\\lib\\site-packages (from pandas) (2.8.2)\n",
      "Requirement already satisfied: pytz>=2020.1 in c:\\python\\python311\\lib\\site-packages (from pandas) (2023.3)\n",
      "Requirement already satisfied: tzdata>=2022.1 in c:\\python\\python311\\lib\\site-packages (from pandas) (2023.3)\n",
      "Requirement already satisfied: numpy>=1.21.0 in c:\\python\\python311\\lib\\site-packages (from pandas) (1.24.2)\n",
      "Requirement already satisfied: six>=1.5 in c:\\python\\python311\\lib\\site-packages (from python-dateutil>=2.8.2->pandas) (1.16.0)\n"
     ]
    },
    {
     "name": "stderr",
     "output_type": "stream",
     "text": [
      "\n",
      "[notice] A new release of pip available: 22.3.1 -> 23.0.1\n",
      "[notice] To update, run: python.exe -m pip install --upgrade pip\n"
     ]
    }
   ],
   "source": [
    "!pip install pandas"
   ]
  },
  {
   "cell_type": "code",
   "execution_count": 2,
   "id": "4bcb072e",
   "metadata": {},
   "outputs": [
    {
     "name": "stdout",
     "output_type": "stream",
     "text": [
      "Requirement already satisfied: numpy in c:\\python\\python311\\lib\\site-packages (1.24.2)\n"
     ]
    },
    {
     "name": "stderr",
     "output_type": "stream",
     "text": [
      "\n",
      "[notice] A new release of pip available: 22.3.1 -> 23.0.1\n",
      "[notice] To update, run: python.exe -m pip install --upgrade pip\n"
     ]
    }
   ],
   "source": [
    "!pip install numpy"
   ]
  },
  {
   "cell_type": "code",
   "execution_count": 3,
   "id": "9bada785",
   "metadata": {},
   "outputs": [
    {
     "name": "stdout",
     "output_type": "stream",
     "text": [
      "Requirement already satisfied: scipy in c:\\python\\python311\\lib\\site-packages (1.10.1)\n",
      "Requirement already satisfied: numpy<1.27.0,>=1.19.5 in c:\\python\\python311\\lib\\site-packages (from scipy) (1.24.2)\n"
     ]
    },
    {
     "name": "stderr",
     "output_type": "stream",
     "text": [
      "\n",
      "[notice] A new release of pip available: 22.3.1 -> 23.0.1\n",
      "[notice] To update, run: python.exe -m pip install --upgrade pip\n"
     ]
    }
   ],
   "source": [
    "!pip install scipy"
   ]
  },
  {
   "cell_type": "code",
   "execution_count": 4,
   "id": "f0c6a99d",
   "metadata": {},
   "outputs": [],
   "source": [
    "import numpy as np\n",
    "import pandas as pd\n",
    "from pandas import Series, DataFrame\n",
    "\n",
    "import scipy\n",
    "from scipy import stats"
   ]
  },
  {
   "cell_type": "code",
   "execution_count": 5,
   "id": "dec95af7",
   "metadata": {},
   "outputs": [],
   "source": [
    "address = 'C:/Data/cereal.csv'\n",
    "\n",
    "cereal = pd.read_csv(address)\n"
   ]
  },
  {
   "cell_type": "code",
   "execution_count": 6,
   "id": "93e8a53c",
   "metadata": {},
   "outputs": [
    {
     "data": {
      "text/html": [
       "<div>\n",
       "<style scoped>\n",
       "    .dataframe tbody tr th:only-of-type {\n",
       "        vertical-align: middle;\n",
       "    }\n",
       "\n",
       "    .dataframe tbody tr th {\n",
       "        vertical-align: top;\n",
       "    }\n",
       "\n",
       "    .dataframe thead th {\n",
       "        text-align: right;\n",
       "    }\n",
       "</style>\n",
       "<table border=\"1\" class=\"dataframe\">\n",
       "  <thead>\n",
       "    <tr style=\"text-align: right;\">\n",
       "      <th></th>\n",
       "      <th>name</th>\n",
       "      <th>mfr</th>\n",
       "      <th>type</th>\n",
       "      <th>calories</th>\n",
       "      <th>protein</th>\n",
       "      <th>fat</th>\n",
       "      <th>sodium</th>\n",
       "      <th>fiber</th>\n",
       "      <th>carbo</th>\n",
       "      <th>sugars</th>\n",
       "      <th>potass</th>\n",
       "      <th>vitamins</th>\n",
       "      <th>shelf</th>\n",
       "      <th>weight</th>\n",
       "      <th>cups</th>\n",
       "      <th>rating</th>\n",
       "    </tr>\n",
       "  </thead>\n",
       "  <tbody>\n",
       "    <tr>\n",
       "      <th>0</th>\n",
       "      <td>100% Bran</td>\n",
       "      <td>N</td>\n",
       "      <td>C</td>\n",
       "      <td>70</td>\n",
       "      <td>4</td>\n",
       "      <td>1</td>\n",
       "      <td>130</td>\n",
       "      <td>10.0</td>\n",
       "      <td>5.0</td>\n",
       "      <td>6</td>\n",
       "      <td>280</td>\n",
       "      <td>25</td>\n",
       "      <td>3</td>\n",
       "      <td>1.0</td>\n",
       "      <td>0.33</td>\n",
       "      <td>68.402973</td>\n",
       "    </tr>\n",
       "    <tr>\n",
       "      <th>1</th>\n",
       "      <td>100% Natural Bran</td>\n",
       "      <td>Q</td>\n",
       "      <td>C</td>\n",
       "      <td>120</td>\n",
       "      <td>3</td>\n",
       "      <td>5</td>\n",
       "      <td>15</td>\n",
       "      <td>2.0</td>\n",
       "      <td>8.0</td>\n",
       "      <td>8</td>\n",
       "      <td>135</td>\n",
       "      <td>0</td>\n",
       "      <td>3</td>\n",
       "      <td>1.0</td>\n",
       "      <td>1.00</td>\n",
       "      <td>33.983679</td>\n",
       "    </tr>\n",
       "    <tr>\n",
       "      <th>2</th>\n",
       "      <td>All-Bran</td>\n",
       "      <td>K</td>\n",
       "      <td>C</td>\n",
       "      <td>70</td>\n",
       "      <td>4</td>\n",
       "      <td>1</td>\n",
       "      <td>260</td>\n",
       "      <td>9.0</td>\n",
       "      <td>7.0</td>\n",
       "      <td>5</td>\n",
       "      <td>320</td>\n",
       "      <td>25</td>\n",
       "      <td>3</td>\n",
       "      <td>1.0</td>\n",
       "      <td>0.33</td>\n",
       "      <td>59.425505</td>\n",
       "    </tr>\n",
       "    <tr>\n",
       "      <th>3</th>\n",
       "      <td>All-Bran with Extra Fiber</td>\n",
       "      <td>K</td>\n",
       "      <td>C</td>\n",
       "      <td>50</td>\n",
       "      <td>4</td>\n",
       "      <td>0</td>\n",
       "      <td>140</td>\n",
       "      <td>14.0</td>\n",
       "      <td>8.0</td>\n",
       "      <td>0</td>\n",
       "      <td>330</td>\n",
       "      <td>25</td>\n",
       "      <td>3</td>\n",
       "      <td>1.0</td>\n",
       "      <td>0.50</td>\n",
       "      <td>93.704912</td>\n",
       "    </tr>\n",
       "    <tr>\n",
       "      <th>4</th>\n",
       "      <td>Almond Delight</td>\n",
       "      <td>R</td>\n",
       "      <td>C</td>\n",
       "      <td>110</td>\n",
       "      <td>2</td>\n",
       "      <td>2</td>\n",
       "      <td>200</td>\n",
       "      <td>1.0</td>\n",
       "      <td>14.0</td>\n",
       "      <td>8</td>\n",
       "      <td>-1</td>\n",
       "      <td>25</td>\n",
       "      <td>3</td>\n",
       "      <td>1.0</td>\n",
       "      <td>0.75</td>\n",
       "      <td>34.384843</td>\n",
       "    </tr>\n",
       "  </tbody>\n",
       "</table>\n",
       "</div>"
      ],
      "text/plain": [
       "                        name mfr type  calories  protein  fat  sodium  fiber   \n",
       "0                  100% Bran   N    C        70        4    1     130   10.0  \\\n",
       "1          100% Natural Bran   Q    C       120        3    5      15    2.0   \n",
       "2                   All-Bran   K    C        70        4    1     260    9.0   \n",
       "3  All-Bran with Extra Fiber   K    C        50        4    0     140   14.0   \n",
       "4             Almond Delight   R    C       110        2    2     200    1.0   \n",
       "\n",
       "   carbo  sugars  potass  vitamins  shelf  weight  cups     rating  \n",
       "0    5.0       6     280        25      3     1.0  0.33  68.402973  \n",
       "1    8.0       8     135         0      3     1.0  1.00  33.983679  \n",
       "2    7.0       5     320        25      3     1.0  0.33  59.425505  \n",
       "3    8.0       0     330        25      3     1.0  0.50  93.704912  \n",
       "4   14.0       8      -1        25      3     1.0  0.75  34.384843  "
      ]
     },
     "execution_count": 6,
     "metadata": {},
     "output_type": "execute_result"
    }
   ],
   "source": [
    "cereal.head()"
   ]
  },
  {
   "cell_type": "code",
   "execution_count": 7,
   "id": "f9806131",
   "metadata": {},
   "outputs": [
    {
     "data": {
      "text/plain": [
       "(77, 16)"
      ]
     },
     "execution_count": 7,
     "metadata": {},
     "output_type": "execute_result"
    }
   ],
   "source": [
    "cereal.shape"
   ]
  },
  {
   "cell_type": "markdown",
   "id": "9c808e4c",
   "metadata": {},
   "source": [
    "## Discriptive Statistics"
   ]
  },
  {
   "cell_type": "markdown",
   "id": "8546602b",
   "metadata": {},
   "source": [
    "### Measures of Locations\n",
    "Mean, median and mode"
   ]
  },
  {
   "cell_type": "code",
   "execution_count": 8,
   "id": "1f6a8ad0",
   "metadata": {},
   "outputs": [
    {
     "data": {
      "text/plain": [
       "calories    106.883117\n",
       "protein       2.545455\n",
       "fat           1.012987\n",
       "sodium      159.675325\n",
       "fiber         2.151948\n",
       "carbo        14.597403\n",
       "sugars        6.922078\n",
       "potass       96.077922\n",
       "vitamins     28.246753\n",
       "shelf         2.207792\n",
       "weight        1.029610\n",
       "cups          0.821039\n",
       "rating       42.665705\n",
       "dtype: float64"
      ]
     },
     "execution_count": 8,
     "metadata": {},
     "output_type": "execute_result"
    }
   ],
   "source": [
    "cereal.mean(numeric_only =True)"
   ]
  },
  {
   "cell_type": "code",
   "execution_count": 9,
   "id": "d3ca4af7",
   "metadata": {},
   "outputs": [
    {
     "data": {
      "text/plain": [
       "calories    110.000000\n",
       "protein       3.000000\n",
       "fat           1.000000\n",
       "sodium      180.000000\n",
       "fiber         2.000000\n",
       "carbo        14.000000\n",
       "sugars        7.000000\n",
       "potass       90.000000\n",
       "vitamins     25.000000\n",
       "shelf         2.000000\n",
       "weight        1.000000\n",
       "cups          0.750000\n",
       "rating       40.400208\n",
       "dtype: float64"
      ]
     },
     "execution_count": 9,
     "metadata": {},
     "output_type": "execute_result"
    }
   ],
   "source": [
    "cereal.median(numeric_only=True)"
   ]
  },
  {
   "cell_type": "code",
   "execution_count": 10,
   "id": "8062d9bf",
   "metadata": {},
   "outputs": [
    {
     "data": {
      "text/html": [
       "<div>\n",
       "<style scoped>\n",
       "    .dataframe tbody tr th:only-of-type {\n",
       "        vertical-align: middle;\n",
       "    }\n",
       "\n",
       "    .dataframe tbody tr th {\n",
       "        vertical-align: top;\n",
       "    }\n",
       "\n",
       "    .dataframe thead th {\n",
       "        text-align: right;\n",
       "    }\n",
       "</style>\n",
       "<table border=\"1\" class=\"dataframe\">\n",
       "  <thead>\n",
       "    <tr style=\"text-align: right;\">\n",
       "      <th></th>\n",
       "      <th>calories</th>\n",
       "      <th>protein</th>\n",
       "      <th>fat</th>\n",
       "      <th>sodium</th>\n",
       "      <th>fiber</th>\n",
       "      <th>carbo</th>\n",
       "      <th>sugars</th>\n",
       "      <th>potass</th>\n",
       "      <th>vitamins</th>\n",
       "      <th>shelf</th>\n",
       "      <th>weight</th>\n",
       "      <th>cups</th>\n",
       "      <th>rating</th>\n",
       "    </tr>\n",
       "  </thead>\n",
       "  <tbody>\n",
       "    <tr>\n",
       "      <th>0</th>\n",
       "      <td>110.0</td>\n",
       "      <td>3.0</td>\n",
       "      <td>1.0</td>\n",
       "      <td>0.0</td>\n",
       "      <td>0.0</td>\n",
       "      <td>13.0</td>\n",
       "      <td>3.0</td>\n",
       "      <td>35.0</td>\n",
       "      <td>25.0</td>\n",
       "      <td>3.0</td>\n",
       "      <td>1.0</td>\n",
       "      <td>1.0</td>\n",
       "      <td>18.042851</td>\n",
       "    </tr>\n",
       "    <tr>\n",
       "      <th>1</th>\n",
       "      <td>NaN</td>\n",
       "      <td>NaN</td>\n",
       "      <td>NaN</td>\n",
       "      <td>NaN</td>\n",
       "      <td>NaN</td>\n",
       "      <td>15.0</td>\n",
       "      <td>NaN</td>\n",
       "      <td>90.0</td>\n",
       "      <td>NaN</td>\n",
       "      <td>NaN</td>\n",
       "      <td>NaN</td>\n",
       "      <td>NaN</td>\n",
       "      <td>19.823573</td>\n",
       "    </tr>\n",
       "    <tr>\n",
       "      <th>2</th>\n",
       "      <td>NaN</td>\n",
       "      <td>NaN</td>\n",
       "      <td>NaN</td>\n",
       "      <td>NaN</td>\n",
       "      <td>NaN</td>\n",
       "      <td>NaN</td>\n",
       "      <td>NaN</td>\n",
       "      <td>110.0</td>\n",
       "      <td>NaN</td>\n",
       "      <td>NaN</td>\n",
       "      <td>NaN</td>\n",
       "      <td>NaN</td>\n",
       "      <td>21.871292</td>\n",
       "    </tr>\n",
       "    <tr>\n",
       "      <th>3</th>\n",
       "      <td>NaN</td>\n",
       "      <td>NaN</td>\n",
       "      <td>NaN</td>\n",
       "      <td>NaN</td>\n",
       "      <td>NaN</td>\n",
       "      <td>NaN</td>\n",
       "      <td>NaN</td>\n",
       "      <td>NaN</td>\n",
       "      <td>NaN</td>\n",
       "      <td>NaN</td>\n",
       "      <td>NaN</td>\n",
       "      <td>NaN</td>\n",
       "      <td>22.396513</td>\n",
       "    </tr>\n",
       "    <tr>\n",
       "      <th>4</th>\n",
       "      <td>NaN</td>\n",
       "      <td>NaN</td>\n",
       "      <td>NaN</td>\n",
       "      <td>NaN</td>\n",
       "      <td>NaN</td>\n",
       "      <td>NaN</td>\n",
       "      <td>NaN</td>\n",
       "      <td>NaN</td>\n",
       "      <td>NaN</td>\n",
       "      <td>NaN</td>\n",
       "      <td>NaN</td>\n",
       "      <td>NaN</td>\n",
       "      <td>22.736446</td>\n",
       "    </tr>\n",
       "    <tr>\n",
       "      <th>...</th>\n",
       "      <td>...</td>\n",
       "      <td>...</td>\n",
       "      <td>...</td>\n",
       "      <td>...</td>\n",
       "      <td>...</td>\n",
       "      <td>...</td>\n",
       "      <td>...</td>\n",
       "      <td>...</td>\n",
       "      <td>...</td>\n",
       "      <td>...</td>\n",
       "      <td>...</td>\n",
       "      <td>...</td>\n",
       "      <td>...</td>\n",
       "    </tr>\n",
       "    <tr>\n",
       "      <th>72</th>\n",
       "      <td>NaN</td>\n",
       "      <td>NaN</td>\n",
       "      <td>NaN</td>\n",
       "      <td>NaN</td>\n",
       "      <td>NaN</td>\n",
       "      <td>NaN</td>\n",
       "      <td>NaN</td>\n",
       "      <td>NaN</td>\n",
       "      <td>NaN</td>\n",
       "      <td>NaN</td>\n",
       "      <td>NaN</td>\n",
       "      <td>NaN</td>\n",
       "      <td>68.235885</td>\n",
       "    </tr>\n",
       "    <tr>\n",
       "      <th>73</th>\n",
       "      <td>NaN</td>\n",
       "      <td>NaN</td>\n",
       "      <td>NaN</td>\n",
       "      <td>NaN</td>\n",
       "      <td>NaN</td>\n",
       "      <td>NaN</td>\n",
       "      <td>NaN</td>\n",
       "      <td>NaN</td>\n",
       "      <td>NaN</td>\n",
       "      <td>NaN</td>\n",
       "      <td>NaN</td>\n",
       "      <td>NaN</td>\n",
       "      <td>68.402973</td>\n",
       "    </tr>\n",
       "    <tr>\n",
       "      <th>74</th>\n",
       "      <td>NaN</td>\n",
       "      <td>NaN</td>\n",
       "      <td>NaN</td>\n",
       "      <td>NaN</td>\n",
       "      <td>NaN</td>\n",
       "      <td>NaN</td>\n",
       "      <td>NaN</td>\n",
       "      <td>NaN</td>\n",
       "      <td>NaN</td>\n",
       "      <td>NaN</td>\n",
       "      <td>NaN</td>\n",
       "      <td>NaN</td>\n",
       "      <td>72.801787</td>\n",
       "    </tr>\n",
       "    <tr>\n",
       "      <th>75</th>\n",
       "      <td>NaN</td>\n",
       "      <td>NaN</td>\n",
       "      <td>NaN</td>\n",
       "      <td>NaN</td>\n",
       "      <td>NaN</td>\n",
       "      <td>NaN</td>\n",
       "      <td>NaN</td>\n",
       "      <td>NaN</td>\n",
       "      <td>NaN</td>\n",
       "      <td>NaN</td>\n",
       "      <td>NaN</td>\n",
       "      <td>NaN</td>\n",
       "      <td>74.472949</td>\n",
       "    </tr>\n",
       "    <tr>\n",
       "      <th>76</th>\n",
       "      <td>NaN</td>\n",
       "      <td>NaN</td>\n",
       "      <td>NaN</td>\n",
       "      <td>NaN</td>\n",
       "      <td>NaN</td>\n",
       "      <td>NaN</td>\n",
       "      <td>NaN</td>\n",
       "      <td>NaN</td>\n",
       "      <td>NaN</td>\n",
       "      <td>NaN</td>\n",
       "      <td>NaN</td>\n",
       "      <td>NaN</td>\n",
       "      <td>93.704912</td>\n",
       "    </tr>\n",
       "  </tbody>\n",
       "</table>\n",
       "<p>77 rows × 13 columns</p>\n",
       "</div>"
      ],
      "text/plain": [
       "    calories  protein  fat  sodium  fiber  carbo  sugars  potass  vitamins   \n",
       "0      110.0      3.0  1.0     0.0    0.0   13.0     3.0    35.0      25.0  \\\n",
       "1        NaN      NaN  NaN     NaN    NaN   15.0     NaN    90.0       NaN   \n",
       "2        NaN      NaN  NaN     NaN    NaN    NaN     NaN   110.0       NaN   \n",
       "3        NaN      NaN  NaN     NaN    NaN    NaN     NaN     NaN       NaN   \n",
       "4        NaN      NaN  NaN     NaN    NaN    NaN     NaN     NaN       NaN   \n",
       "..       ...      ...  ...     ...    ...    ...     ...     ...       ...   \n",
       "72       NaN      NaN  NaN     NaN    NaN    NaN     NaN     NaN       NaN   \n",
       "73       NaN      NaN  NaN     NaN    NaN    NaN     NaN     NaN       NaN   \n",
       "74       NaN      NaN  NaN     NaN    NaN    NaN     NaN     NaN       NaN   \n",
       "75       NaN      NaN  NaN     NaN    NaN    NaN     NaN     NaN       NaN   \n",
       "76       NaN      NaN  NaN     NaN    NaN    NaN     NaN     NaN       NaN   \n",
       "\n",
       "    shelf  weight  cups     rating  \n",
       "0     3.0     1.0   1.0  18.042851  \n",
       "1     NaN     NaN   NaN  19.823573  \n",
       "2     NaN     NaN   NaN  21.871292  \n",
       "3     NaN     NaN   NaN  22.396513  \n",
       "4     NaN     NaN   NaN  22.736446  \n",
       "..    ...     ...   ...        ...  \n",
       "72    NaN     NaN   NaN  68.235885  \n",
       "73    NaN     NaN   NaN  68.402973  \n",
       "74    NaN     NaN   NaN  72.801787  \n",
       "75    NaN     NaN   NaN  74.472949  \n",
       "76    NaN     NaN   NaN  93.704912  \n",
       "\n",
       "[77 rows x 13 columns]"
      ]
     },
     "execution_count": 10,
     "metadata": {},
     "output_type": "execute_result"
    }
   ],
   "source": [
    "cereal.mode(numeric_only=True)\n"
   ]
  },
  {
   "cell_type": "markdown",
   "id": "4a76d570",
   "metadata": {},
   "source": [
    "#### Weighted Mean "
   ]
  },
  {
   "cell_type": "code",
   "execution_count": 11,
   "id": "83c843fa",
   "metadata": {},
   "outputs": [
    {
     "data": {
      "text/plain": [
       "2.55"
      ]
     },
     "execution_count": 11,
     "metadata": {},
     "output_type": "execute_result"
    }
   ],
   "source": [
    "distribution = cereal['protein']\n",
    "weights = cereal ['calories']\n",
    "def weighted_avg_m2(distribution, weights):\n",
    "    weighted_sum = []\n",
    "    for protien, weight in zip(distribution, weights):\n",
    "        weighted_sum.append(protien * weight)\n",
    "    \n",
    "    return round(sum(weighted_sum) / sum(weights),2)\n",
    "  \n",
    "weighted_avg_m2(distribution, weights)"
   ]
  },
  {
   "cell_type": "code",
   "execution_count": 12,
   "id": "ad00c671",
   "metadata": {},
   "outputs": [
    {
     "data": {
      "text/plain": [
       "1.1"
      ]
     },
     "execution_count": 12,
     "metadata": {},
     "output_type": "execute_result"
    }
   ],
   "source": [
    "distribution = cereal['fat']\n",
    "weights = cereal ['calories']\n",
    "def weighted_avg_m2(distribution, weights):\n",
    "    weighted_sum = []\n",
    "    for fat, weight in zip(distribution, weights):\n",
    "        weighted_sum.append(fat * weight)\n",
    "    \n",
    "    return round(sum(weighted_sum) / sum(weights),2)\n",
    "  \n",
    "weighted_avg_m2(distribution, weights)"
   ]
  },
  {
   "cell_type": "code",
   "execution_count": 13,
   "id": "2520a93d",
   "metadata": {},
   "outputs": [
    {
     "data": {
      "text/plain": [
       "164.21"
      ]
     },
     "execution_count": 13,
     "metadata": {},
     "output_type": "execute_result"
    }
   ],
   "source": [
    "distribution = cereal['sodium']\n",
    "weights = cereal ['calories']\n",
    "def weighted_avg_m2(distribution, weights):\n",
    "    weighted_sum = []\n",
    "    for sodium, weight in zip(distribution, weights):\n",
    "        weighted_sum.append(sodium * weight)\n",
    "    \n",
    "    return round(sum(weighted_sum) / sum(weights),2)\n",
    "  \n",
    "weighted_avg_m2(distribution, weights)"
   ]
  },
  {
   "cell_type": "code",
   "execution_count": 14,
   "id": "aa225b41",
   "metadata": {},
   "outputs": [
    {
     "data": {
      "text/plain": [
       "2.03"
      ]
     },
     "execution_count": 14,
     "metadata": {},
     "output_type": "execute_result"
    }
   ],
   "source": [
    "distribution = cereal['fiber']\n",
    "weights = cereal ['calories']\n",
    "def weighted_avg_m2(distribution, weights):\n",
    "    weighted_sum = []\n",
    "    for fiber, weight in zip(distribution, weights):\n",
    "        weighted_sum.append(fiber * weight)\n",
    "    \n",
    "    return round(sum(weighted_sum) / sum(weights),2)\n",
    "  \n",
    "weighted_avg_m2(distribution, weights)"
   ]
  },
  {
   "cell_type": "code",
   "execution_count": 15,
   "id": "abaf47b6",
   "metadata": {},
   "outputs": [
    {
     "data": {
      "text/plain": [
       "14.79"
      ]
     },
     "execution_count": 15,
     "metadata": {},
     "output_type": "execute_result"
    }
   ],
   "source": [
    "distribution = cereal['carbo']\n",
    "weights = cereal ['calories']\n",
    "def weighted_avg_m2(distribution, weights):\n",
    "    weighted_sum = []\n",
    "    for carbo, weight in zip(distribution, weights):\n",
    "        weighted_sum.append(carbo * weight)\n",
    "    \n",
    "    return round(sum(weighted_sum) / sum(weights),2)\n",
    "  \n",
    "weighted_avg_m2(distribution, weights)"
   ]
  },
  {
   "cell_type": "code",
   "execution_count": 16,
   "id": "9f0035c8",
   "metadata": {},
   "outputs": [
    {
     "data": {
      "text/plain": [
       "7.37"
      ]
     },
     "execution_count": 16,
     "metadata": {},
     "output_type": "execute_result"
    }
   ],
   "source": [
    "distribution = cereal['sugars']\n",
    "weights = cereal ['calories']\n",
    "def weighted_avg_m2(distribution, weights):\n",
    "    weighted_sum = []\n",
    "    for sugars, weight in zip(distribution, weights):\n",
    "        weighted_sum.append(sugars * weight)\n",
    "    \n",
    "    return round(sum(weighted_sum) / sum(weights),2)\n",
    "  \n",
    "weighted_avg_m2(distribution, weights)"
   ]
  },
  {
   "cell_type": "code",
   "execution_count": 17,
   "id": "7f43f37c",
   "metadata": {},
   "outputs": [
    {
     "data": {
      "text/plain": [
       "95.22"
      ]
     },
     "execution_count": 17,
     "metadata": {},
     "output_type": "execute_result"
    }
   ],
   "source": [
    "distribution = cereal['potass']\n",
    "weights = cereal ['calories']\n",
    "def weighted_avg_m2(distribution, weights):\n",
    "    weighted_sum = []\n",
    "    for potass, weight in zip(distribution, weights):\n",
    "        weighted_sum.append(potass * weight)\n",
    "    \n",
    "    return round(sum(weighted_sum) / sum(weights),2)\n",
    "  \n",
    "weighted_avg_m2(distribution, weights)"
   ]
  },
  {
   "cell_type": "code",
   "execution_count": 18,
   "id": "136e6329",
   "metadata": {},
   "outputs": [
    {
     "data": {
      "text/plain": [
       "29.31"
      ]
     },
     "execution_count": 18,
     "metadata": {},
     "output_type": "execute_result"
    }
   ],
   "source": [
    "distribution = cereal['vitamins']\n",
    "weights = cereal ['calories']\n",
    "def weighted_avg_m2(distribution, weights):\n",
    "    weighted_sum = []\n",
    "    for vitamins, weight in zip(distribution, weights):\n",
    "        weighted_sum.append(vitamins * weight)\n",
    "    \n",
    "    return round(sum(weighted_sum) / sum(weights),2)\n",
    "  \n",
    "weighted_avg_m2(distribution, weights)"
   ]
  },
  {
   "cell_type": "code",
   "execution_count": 19,
   "id": "fb512520",
   "metadata": {},
   "outputs": [
    {
     "data": {
      "text/plain": [
       "2.22"
      ]
     },
     "execution_count": 19,
     "metadata": {},
     "output_type": "execute_result"
    }
   ],
   "source": [
    "distribution = cereal['shelf']\n",
    "weights = cereal ['calories']\n",
    "def weighted_avg_m2(distribution, weights):\n",
    "    weighted_sum = []\n",
    "    for shelf, weight in zip(distribution, weights):\n",
    "        weighted_sum.append(shelf * weight)\n",
    "    \n",
    "    return round(sum(weighted_sum) / sum(weights),2)\n",
    "  \n",
    "weighted_avg_m2(distribution, weights)"
   ]
  },
  {
   "cell_type": "code",
   "execution_count": 20,
   "id": "f0fca8f1",
   "metadata": {},
   "outputs": [
    {
     "data": {
      "text/plain": [
       "110.39"
      ]
     },
     "execution_count": 20,
     "metadata": {},
     "output_type": "execute_result"
    }
   ],
   "source": [
    "distribution = cereal['weight']\n",
    "weights = cereal ['calories']\n",
    "def weighted_avg_m2(distribution, weights):\n",
    "    weighted_sum = []\n",
    "    for weight, weight in zip(distribution, weights):\n",
    "        weighted_sum.append(weight * weight)\n",
    "    \n",
    "    return round(sum(weighted_sum) / sum(weights),2)\n",
    "  \n",
    "weighted_avg_m2(distribution, weights)"
   ]
  },
  {
   "cell_type": "code",
   "execution_count": 21,
   "id": "75d82f4c",
   "metadata": {},
   "outputs": [
    {
     "data": {
      "text/plain": [
       "0.82"
      ]
     },
     "execution_count": 21,
     "metadata": {},
     "output_type": "execute_result"
    }
   ],
   "source": [
    "distribution = cereal['cups']\n",
    "weights = cereal ['calories']\n",
    "def weighted_avg_m2(distribution, weights):\n",
    "    weighted_sum = []\n",
    "    for cups, weight in zip(distribution, weights):\n",
    "        weighted_sum.append(cups * weight)\n",
    "    \n",
    "    return round(sum(weighted_sum) / sum(weights),2)\n",
    "  \n",
    "weighted_avg_m2(distribution, weights)"
   ]
  },
  {
   "cell_type": "code",
   "execution_count": 22,
   "id": "58b9c08a",
   "metadata": {},
   "outputs": [
    {
     "data": {
      "text/plain": [
       "40.92"
      ]
     },
     "execution_count": 22,
     "metadata": {},
     "output_type": "execute_result"
    }
   ],
   "source": [
    "distribution = cereal['rating']\n",
    "weights = cereal ['calories']\n",
    "def weighted_avg_m2(distribution, weights):\n",
    "    weighted_sum = []\n",
    "    for rating, weight in zip(distribution, weights):\n",
    "        weighted_sum.append(rating * weight)\n",
    "    \n",
    "    return round(sum(weighted_sum) / sum(weights),2)\n",
    "  \n",
    "weighted_avg_m2(distribution, weights)"
   ]
  },
  {
   "cell_type": "markdown",
   "id": "7159770f",
   "metadata": {},
   "source": [
    "#### Geometric Mean "
   ]
  },
  {
   "cell_type": "code",
   "execution_count": 23,
   "id": "3c8b1134",
   "metadata": {},
   "outputs": [
    {
     "data": {
      "text/plain": [
       "104.85281503062876"
      ]
     },
     "execution_count": 23,
     "metadata": {},
     "output_type": "execute_result"
    }
   ],
   "source": [
    "data = cereal['calories']\n",
    "def g_mean(x):\n",
    "    a = np.log(x)\n",
    "    return np.exp(a.mean())\n",
    "g_mean(data)"
   ]
  },
  {
   "cell_type": "code",
   "execution_count": 24,
   "id": "1dc9e8cc",
   "metadata": {},
   "outputs": [
    {
     "data": {
      "text/plain": [
       "2.307154033009683"
      ]
     },
     "execution_count": 24,
     "metadata": {},
     "output_type": "execute_result"
    }
   ],
   "source": [
    "data = cereal['protein']\n",
    "def g_mean(x):\n",
    "    a = np.log(x)\n",
    "    return np.exp(a.mean())\n",
    "g_mean(data)"
   ]
  },
  {
   "cell_type": "code",
   "execution_count": 25,
   "id": "ddd2b4fc",
   "metadata": {},
   "outputs": [
    {
     "data": {
      "text/plain": [
       "1.3995226268775314"
      ]
     },
     "execution_count": 25,
     "metadata": {},
     "output_type": "execute_result"
    }
   ],
   "source": [
    "data = cereal['fat']\n",
    "def g_mean(x):\n",
    "    x = [i for i in x if i != 0]\n",
    "    a = np.log(x)\n",
    "    return np.exp(a.mean())\n",
    "g_mean(data)"
   ]
  },
  {
   "cell_type": "code",
   "execution_count": 26,
   "id": "052b6e11",
   "metadata": {},
   "outputs": [
    {
     "data": {
      "text/plain": [
       "163.14377640632597"
      ]
     },
     "execution_count": 26,
     "metadata": {},
     "output_type": "execute_result"
    }
   ],
   "source": [
    "data = cereal['sodium']\n",
    "def g_mean(x):\n",
    "    x = [i for i in x if i != 0]\n",
    "    a = np.log(x)\n",
    "    return np.exp(a.mean())\n",
    "g_mean(data)"
   ]
  },
  {
   "cell_type": "code",
   "execution_count": 27,
   "id": "80608267",
   "metadata": {},
   "outputs": [
    {
     "data": {
      "text/plain": [
       "2.266203640390989"
      ]
     },
     "execution_count": 27,
     "metadata": {},
     "output_type": "execute_result"
    }
   ],
   "source": [
    "data = cereal['fiber']\n",
    "def g_mean(x):\n",
    "    x = [i for i in x if i != 0]\n",
    "    a = np.log(x)\n",
    "    return np.exp(a.mean())\n",
    "g_mean(data)"
   ]
  },
  {
   "cell_type": "code",
   "execution_count": 28,
   "id": "7fe0cb33",
   "metadata": {},
   "outputs": [
    {
     "data": {
      "text/plain": [
       "14.255906967995774"
      ]
     },
     "execution_count": 28,
     "metadata": {},
     "output_type": "execute_result"
    }
   ],
   "source": [
    "data = cereal['carbo']\n",
    "def g_mean(x):\n",
    "    x = [i for i in x if i != 0 or i for i in x if i != -1]\n",
    "    a = np.log(x)\n",
    "    return np.exp(a.mean())\n",
    "g_mean(data)"
   ]
  },
  {
   "cell_type": "code",
   "execution_count": 29,
   "id": "5b1fd59a",
   "metadata": {},
   "outputs": [
    {
     "data": {
      "text/plain": [
       "6.560800056054649"
      ]
     },
     "execution_count": 29,
     "metadata": {},
     "output_type": "execute_result"
    }
   ],
   "source": [
    "data = cereal['sugars']\n",
    "def g_mean(x):\n",
    "    x = [i for i in x if i != 0 and i != -1]\n",
    "    a = np.log(x)\n",
    "    return np.exp(a.mean())\n",
    "g_mean(data)"
   ]
  },
  {
   "cell_type": "code",
   "execution_count": 30,
   "id": "61cd0492",
   "metadata": {},
   "outputs": [
    {
     "data": {
      "text/plain": [
       "77.46370968306266"
      ]
     },
     "execution_count": 30,
     "metadata": {},
     "output_type": "execute_result"
    }
   ],
   "source": [
    "data = cereal['potass']\n",
    "def g_mean(x):\n",
    "    x = [i for i in x if i != 0 or i for i in x if i != -1]\n",
    "    a = np.log(x)\n",
    "    return np.exp(a.mean())\n",
    "g_mean(data)"
   ]
  },
  {
   "cell_type": "code",
   "execution_count": 31,
   "id": "079c562c",
   "metadata": {},
   "outputs": [
    {
     "data": {
      "text/plain": [
       "28.202853495757747"
      ]
     },
     "execution_count": 31,
     "metadata": {},
     "output_type": "execute_result"
    }
   ],
   "source": [
    "data = cereal['vitamins']\n",
    "def g_mean(x):\n",
    "    x = [i for i in x if i != 0]\n",
    "    a = np.log(x)\n",
    "    return np.exp(a.mean())\n",
    "g_mean(data)"
   ]
  },
  {
   "cell_type": "code",
   "execution_count": 32,
   "id": "5c4ad443",
   "metadata": {},
   "outputs": [
    {
     "data": {
      "text/plain": [
       "2.0191508552296"
      ]
     },
     "execution_count": 32,
     "metadata": {},
     "output_type": "execute_result"
    }
   ],
   "source": [
    "data = cereal['shelf']\n",
    "def g_mean(x):\n",
    "    x = [i for i in x if i != 0 or i for i in x if i != -1]\n",
    "    a = np.log(x)\n",
    "    return np.exp(a.mean())\n",
    "g_mean(data)"
   ]
  },
  {
   "cell_type": "code",
   "execution_count": 33,
   "id": "4320e18f",
   "metadata": {},
   "outputs": [
    {
     "data": {
      "text/plain": [
       "1.017989141293691"
      ]
     },
     "execution_count": 33,
     "metadata": {},
     "output_type": "execute_result"
    }
   ],
   "source": [
    "data = cereal['weight']\n",
    "def g_mean(x):\n",
    "    x = [i for i in x if i != 0 or i for i in x if i != -1]\n",
    "    a = np.log(x)\n",
    "    return np.exp(a.mean())\n",
    "g_mean(data)"
   ]
  },
  {
   "cell_type": "code",
   "execution_count": 34,
   "id": "b5b9556e",
   "metadata": {},
   "outputs": [
    {
     "data": {
      "text/plain": [
       "0.7832003496370382"
      ]
     },
     "execution_count": 34,
     "metadata": {},
     "output_type": "execute_result"
    }
   ],
   "source": [
    "data = cereal['cups']\n",
    "def g_mean(x):\n",
    "    x = [i for i in x if i != 0 or i for i in x if i != -1]\n",
    "    a = np.log(x)\n",
    "    return np.exp(a.mean())\n",
    "g_mean(data)"
   ]
  },
  {
   "cell_type": "code",
   "execution_count": 35,
   "id": "e0032c79",
   "metadata": {},
   "outputs": [
    {
     "data": {
      "text/plain": [
       "40.51632115671514"
      ]
     },
     "execution_count": 35,
     "metadata": {},
     "output_type": "execute_result"
    }
   ],
   "source": [
    "data = cereal['rating']\n",
    "def g_mean(x):\n",
    "    x = [i for i in x if i != 0 or i for i in x if i != -1]\n",
    "    a = np.log(x)\n",
    "    return np.exp(a.mean())\n",
    "g_mean(data)"
   ]
  },
  {
   "cell_type": "markdown",
   "id": "b130fe07",
   "metadata": {},
   "source": [
    "#### Quartiles"
   ]
  },
  {
   "cell_type": "code",
   "execution_count": 36,
   "id": "e5972b63",
   "metadata": {},
   "outputs": [
    {
     "data": {
      "text/plain": [
       "calories    100.000000\n",
       "protein       2.000000\n",
       "fat           0.000000\n",
       "sodium      130.000000\n",
       "fiber         1.000000\n",
       "carbo        12.000000\n",
       "sugars        3.000000\n",
       "potass       40.000000\n",
       "vitamins     25.000000\n",
       "shelf         1.000000\n",
       "weight        1.000000\n",
       "cups          0.670000\n",
       "rating       33.174094\n",
       "Name: 0.25, dtype: float64"
      ]
     },
     "execution_count": 36,
     "metadata": {},
     "output_type": "execute_result"
    }
   ],
   "source": [
    "cereal.quantile(q=0.25, numeric_only=True)"
   ]
  },
  {
   "cell_type": "code",
   "execution_count": 37,
   "id": "d8f4d64a",
   "metadata": {},
   "outputs": [
    {
     "data": {
      "text/plain": [
       "calories    110.000000\n",
       "protein       3.000000\n",
       "fat           1.000000\n",
       "sodium      180.000000\n",
       "fiber         2.000000\n",
       "carbo        14.000000\n",
       "sugars        7.000000\n",
       "potass       90.000000\n",
       "vitamins     25.000000\n",
       "shelf         2.000000\n",
       "weight        1.000000\n",
       "cups          0.750000\n",
       "rating       40.400208\n",
       "Name: 0.5, dtype: float64"
      ]
     },
     "execution_count": 37,
     "metadata": {},
     "output_type": "execute_result"
    }
   ],
   "source": [
    "cereal.quantile(q=0.50, numeric_only=True)"
   ]
  },
  {
   "cell_type": "code",
   "execution_count": 38,
   "id": "f41e9291",
   "metadata": {},
   "outputs": [
    {
     "data": {
      "text/plain": [
       "calories    110.000000\n",
       "protein       3.000000\n",
       "fat           2.000000\n",
       "sodium      210.000000\n",
       "fiber         3.000000\n",
       "carbo        17.000000\n",
       "sugars       11.000000\n",
       "potass      120.000000\n",
       "vitamins     25.000000\n",
       "shelf         3.000000\n",
       "weight        1.000000\n",
       "cups          1.000000\n",
       "rating       50.828392\n",
       "Name: 0.75, dtype: float64"
      ]
     },
     "execution_count": 38,
     "metadata": {},
     "output_type": "execute_result"
    }
   ],
   "source": [
    "cereal.quantile(q=0.75, numeric_only=True)"
   ]
  },
  {
   "cell_type": "markdown",
   "id": "8a9655d2",
   "metadata": {},
   "source": [
    "#### Percentiles "
   ]
  },
  {
   "cell_type": "code",
   "execution_count": 39,
   "id": "6decbfca",
   "metadata": {},
   "outputs": [
    {
     "name": "stdout",
     "output_type": "stream",
     "text": [
      "100.0\n",
      "110.0\n",
      "120.0\n",
      "140.0\n"
     ]
    }
   ],
   "source": [
    "array = cereal['calories']\n",
    "Twentieth  = np.percentile(array, 20)\n",
    "print (Twentieth)\n",
    "Fiftieth  = np.percentile(array, 50)\n",
    "print (Fiftieth)\n",
    "Eightieth  = np.percentile(array,80)\n",
    "print (Eightieth)\n",
    "Ninetyfith  = np.percentile(array, 95)\n",
    "print (Ninetyfith)"
   ]
  },
  {
   "cell_type": "code",
   "execution_count": 40,
   "id": "c826a579",
   "metadata": {},
   "outputs": [
    {
     "name": "stdout",
     "output_type": "stream",
     "text": [
      "2.0\n",
      "3.0\n",
      "3.0\n",
      "4.0\n"
     ]
    }
   ],
   "source": [
    "array = cereal['protein']\n",
    "Twentieth  = np.percentile(array, 20)\n",
    "print (Twentieth)\n",
    "Fiftieth  = np.percentile(array, 50)\n",
    "print (Fiftieth )\n",
    "Eightieth  = np.percentile(array,80)\n",
    "print (Eightieth )\n",
    "Ninetyfith  = np.percentile(array, 95)\n",
    "print (Ninetyfith )"
   ]
  },
  {
   "cell_type": "code",
   "execution_count": 41,
   "id": "2600ec61",
   "metadata": {},
   "outputs": [
    {
     "name": "stdout",
     "output_type": "stream",
     "text": [
      "0.0\n",
      "1.0\n",
      "2.0\n",
      "3.0\n"
     ]
    }
   ],
   "source": [
    "array = cereal['fat']\n",
    "Twentieth  = np.percentile(array, 20)\n",
    "print (Twentieth)\n",
    "Fiftieth  = np.percentile(array, 50)\n",
    "print (Fiftieth )\n",
    "Eightieth  = np.percentile(array,80)\n",
    "print (Eightieth )\n",
    "Ninetyfith  = np.percentile(array, 95)\n",
    "print (Ninetyfith )"
   ]
  },
  {
   "cell_type": "code",
   "execution_count": 42,
   "id": "63818f13",
   "metadata": {},
   "outputs": [
    {
     "name": "stdout",
     "output_type": "stream",
     "text": [
      "91.0\n",
      "180.0\n",
      "220.0\n",
      "282.0\n"
     ]
    }
   ],
   "source": [
    "array = cereal['sodium']\n",
    "Twentieth  = np.percentile(array, 20)\n",
    "print (Twentieth)\n",
    "Fiftieth  = np.percentile(array, 50)\n",
    "print (Fiftieth )\n",
    "Eightieth  = np.percentile(array,80)\n",
    "print (Eightieth )\n",
    "Ninetyfith  = np.percentile(array, 95)\n",
    "print (Ninetyfith )"
   ]
  },
  {
   "cell_type": "code",
   "execution_count": 43,
   "id": "b38a460f",
   "metadata": {},
   "outputs": [
    {
     "name": "stdout",
     "output_type": "stream",
     "text": [
      "0.0\n",
      "2.0\n",
      "3.0\n",
      "5.200000000000003\n"
     ]
    }
   ],
   "source": [
    "array = cereal['fiber']\n",
    "Twentieth  = np.percentile(array, 20)\n",
    "print (Twentieth)\n",
    "Fiftieth  = np.percentile(array, 50)\n",
    "print (Fiftieth )\n",
    "Eightieth  = np.percentile(array,80)\n",
    "print (Eightieth )\n",
    "Ninetyfith  = np.percentile(array, 95)\n",
    "print (Ninetyfith )"
   ]
  },
  {
   "cell_type": "code",
   "execution_count": 44,
   "id": "d9be8a41",
   "metadata": {},
   "outputs": [
    {
     "name": "stdout",
     "output_type": "stream",
     "text": [
      "11.600000000000001\n",
      "14.0\n",
      "18.0\n",
      "21.0\n"
     ]
    }
   ],
   "source": [
    "array = cereal['carbo']\n",
    "Twentieth  = np.percentile(array, 20)\n",
    "print (Twentieth)\n",
    "Fiftieth  = np.percentile(array, 50)\n",
    "print (Fiftieth )\n",
    "Eightieth  = np.percentile(array,80)\n",
    "print (Eightieth )\n",
    "Ninetyfith  = np.percentile(array, 95)\n",
    "print (Ninetyfith )"
   ]
  },
  {
   "cell_type": "code",
   "execution_count": 45,
   "id": "65db2f37",
   "metadata": {},
   "outputs": [
    {
     "name": "stdout",
     "output_type": "stream",
     "text": [
      "3.0\n",
      "7.0\n",
      "11.800000000000004\n",
      "14.0\n"
     ]
    }
   ],
   "source": [
    "array = cereal['sugars']\n",
    "Twentieth  = np.percentile(array, 20)\n",
    "print (Twentieth)\n",
    "Fiftieth  = np.percentile(array, 50)\n",
    "print (Fiftieth )\n",
    "Eightieth  = np.percentile(array,80)\n",
    "print (Eightieth )\n",
    "Ninetyfith  = np.percentile(array, 95)\n",
    "print (Ninetyfith )"
   ]
  },
  {
   "cell_type": "code",
   "execution_count": 46,
   "id": "66f3db4e",
   "metadata": {},
   "outputs": [
    {
     "name": "stdout",
     "output_type": "stream",
     "text": [
      "35.0\n",
      "90.0\n",
      "134.00000000000003\n",
      "244.00000000000006\n"
     ]
    }
   ],
   "source": [
    "array = cereal['potass']\n",
    "Twentieth  = np.percentile(array, 20)\n",
    "print (Twentieth)\n",
    "Fiftieth  = np.percentile(array, 50)\n",
    "print (Fiftieth )\n",
    "Eightieth  = np.percentile(array,80)\n",
    "print (Eightieth )\n",
    "Ninetyfith  = np.percentile(array, 95)\n",
    "print (Ninetyfith )"
   ]
  },
  {
   "cell_type": "code",
   "execution_count": 47,
   "id": "122a6d44",
   "metadata": {},
   "outputs": [
    {
     "name": "stdout",
     "output_type": "stream",
     "text": [
      "25.0\n",
      "25.0\n",
      "25.0\n",
      "100.0\n"
     ]
    }
   ],
   "source": [
    "array = cereal['vitamins']\n",
    "Twentieth  = np.percentile(array, 20)\n",
    "print (Twentieth)\n",
    "Fiftieth  = np.percentile(array, 50)\n",
    "print (Fiftieth )\n",
    "Eightieth  = np.percentile(array,80)\n",
    "print (Eightieth )\n",
    "Ninetyfith  = np.percentile(array, 95)\n",
    "print (Ninetyfith )"
   ]
  },
  {
   "cell_type": "code",
   "execution_count": 48,
   "id": "4bfe1acc",
   "metadata": {},
   "outputs": [
    {
     "name": "stdout",
     "output_type": "stream",
     "text": [
      "1.0\n",
      "2.0\n",
      "3.0\n",
      "3.0\n"
     ]
    }
   ],
   "source": [
    "array = cereal['shelf']\n",
    "Twentieth  = np.percentile(array, 20)\n",
    "print (Twentieth)\n",
    "Fiftieth  = np.percentile(array, 50)\n",
    "print (Fiftieth )\n",
    "Eightieth  = np.percentile(array,80)\n",
    "print (Eightieth )\n",
    "Ninetyfith  = np.percentile(array, 95)\n",
    "print (Ninetyfith )"
   ]
  },
  {
   "cell_type": "code",
   "execution_count": 49,
   "id": "560e79bb",
   "metadata": {},
   "outputs": [
    {
     "name": "stdout",
     "output_type": "stream",
     "text": [
      "1.0\n",
      "1.0\n",
      "1.0\n",
      "1.33\n"
     ]
    }
   ],
   "source": [
    "array = cereal['weight']\n",
    "Twentieth  = np.percentile(array, 20)\n",
    "print (Twentieth)\n",
    "Fiftieth  = np.percentile(array, 50)\n",
    "print (Fiftieth )\n",
    "Eightieth  = np.percentile(array,80)\n",
    "print (Eightieth )\n",
    "Ninetyfith  = np.percentile(array, 95)\n",
    "print (Ninetyfith )"
   ]
  },
  {
   "cell_type": "code",
   "execution_count": 50,
   "id": "d2f54a29",
   "metadata": {},
   "outputs": [
    {
     "name": "stdout",
     "output_type": "stream",
     "text": [
      "0.67\n",
      "0.75\n",
      "1.0\n",
      "1.0260000000000002\n"
     ]
    }
   ],
   "source": [
    "array = cereal['cups']\n",
    "Twentieth  = np.percentile(array, 20)\n",
    "print (Twentieth)\n",
    "Fiftieth  = np.percentile(array, 50)\n",
    "print (Fiftieth )\n",
    "Eightieth  = np.percentile(array,80)\n",
    "print (Eightieth )\n",
    "Ninetyfith  = np.percentile(array, 95)\n",
    "print (Ninetyfith )"
   ]
  },
  {
   "cell_type": "code",
   "execution_count": 51,
   "id": "3c7fa0db",
   "metadata": {},
   "outputs": [
    {
     "name": "stdout",
     "output_type": "stream",
     "text": [
      "31.1037844\n",
      "40.400208\n",
      "53.277315200000004\n",
      "68.2693026\n"
     ]
    }
   ],
   "source": [
    "array = cereal['rating']\n",
    "Twentieth  = np.percentile(array, 20)\n",
    "print (Twentieth)\n",
    "Fiftieth  = np.percentile(array, 50)\n",
    "print (Fiftieth )\n",
    "Eightieth  = np.percentile(array,80)\n",
    "print (Eightieth )\n",
    "Ninetyfith  = np.percentile(array, 95)\n",
    "print (Ninetyfith )"
   ]
  },
  {
   "cell_type": "markdown",
   "id": "751d58ad",
   "metadata": {},
   "source": [
    "### Measures of Variability "
   ]
  },
  {
   "cell_type": "markdown",
   "id": "9c804396",
   "metadata": {},
   "source": [
    "#### Range "
   ]
  },
  {
   "cell_type": "code",
   "execution_count": 52,
   "id": "2015caf8",
   "metadata": {},
   "outputs": [],
   "source": [
    "maximum = cereal.max(numeric_only=True)\n",
    "minimum = cereal.min(numeric_only=True)"
   ]
  },
  {
   "cell_type": "code",
   "execution_count": 53,
   "id": "47347fc7",
   "metadata": {},
   "outputs": [
    {
     "data": {
      "text/plain": [
       "calories    110.000000\n",
       "protein       5.000000\n",
       "fat           5.000000\n",
       "sodium      320.000000\n",
       "fiber        14.000000\n",
       "carbo        24.000000\n",
       "sugars       16.000000\n",
       "potass      331.000000\n",
       "vitamins    100.000000\n",
       "shelf         2.000000\n",
       "weight        1.000000\n",
       "cups          1.250000\n",
       "rating       75.662061\n",
       "dtype: float64"
      ]
     },
     "execution_count": 53,
     "metadata": {},
     "output_type": "execute_result"
    }
   ],
   "source": [
    "maximum -minimum"
   ]
  },
  {
   "cell_type": "markdown",
   "id": "f16fd782",
   "metadata": {},
   "source": [
    "#### Interquartile range "
   ]
  },
  {
   "cell_type": "code",
   "execution_count": 54,
   "id": "3f565a4e",
   "metadata": {},
   "outputs": [],
   "source": [
    "Third = cereal.quantile(q=0.75, numeric_only=True)\n",
    "First = cereal.quantile(q=0.25, numeric_only=True)"
   ]
  },
  {
   "cell_type": "code",
   "execution_count": 55,
   "id": "3f61e6f6",
   "metadata": {},
   "outputs": [
    {
     "data": {
      "text/plain": [
       "calories    10.000000\n",
       "protein      1.000000\n",
       "fat          2.000000\n",
       "sodium      80.000000\n",
       "fiber        2.000000\n",
       "carbo        5.000000\n",
       "sugars       8.000000\n",
       "potass      80.000000\n",
       "vitamins     0.000000\n",
       "shelf        2.000000\n",
       "weight       0.000000\n",
       "cups         0.330000\n",
       "rating      17.654298\n",
       "dtype: float64"
      ]
     },
     "execution_count": 55,
     "metadata": {},
     "output_type": "execute_result"
    }
   ],
   "source": [
    "Third - First"
   ]
  },
  {
   "cell_type": "markdown",
   "id": "1029374c",
   "metadata": {},
   "source": [
    "#### Variance "
   ]
  },
  {
   "cell_type": "code",
   "execution_count": 56,
   "id": "7ad052a2",
   "metadata": {},
   "outputs": [
    {
     "data": {
      "text/plain": [
       "calories     379.630895\n",
       "protein        1.198565\n",
       "fat            1.012987\n",
       "sodium      7027.853725\n",
       "fiber          5.680424\n",
       "carbo         18.309467\n",
       "sugars        19.757006\n",
       "potass      5081.809638\n",
       "vitamins     499.188312\n",
       "shelf          0.693096\n",
       "weight         0.022643\n",
       "cups           0.054157\n",
       "rating       197.326321\n",
       "dtype: float64"
      ]
     },
     "execution_count": 56,
     "metadata": {},
     "output_type": "execute_result"
    }
   ],
   "source": [
    "cereal.var(numeric_only=True)"
   ]
  },
  {
   "cell_type": "markdown",
   "id": "4f11a66c",
   "metadata": {},
   "source": [
    "#### Standard Deviation "
   ]
  },
  {
   "cell_type": "code",
   "execution_count": 57,
   "id": "b2eda5ef",
   "metadata": {},
   "outputs": [
    {
     "data": {
      "text/plain": [
       "calories    19.484119\n",
       "protein      1.094790\n",
       "fat          1.006473\n",
       "sodium      83.832295\n",
       "fiber        2.383364\n",
       "carbo        4.278956\n",
       "sugars       4.444885\n",
       "potass      71.286813\n",
       "vitamins    22.342523\n",
       "shelf        0.832524\n",
       "weight       0.150477\n",
       "cups         0.232716\n",
       "rating      14.047289\n",
       "dtype: float64"
      ]
     },
     "execution_count": 57,
     "metadata": {},
     "output_type": "execute_result"
    }
   ],
   "source": [
    "cereal.std(numeric_only=True)"
   ]
  },
  {
   "cell_type": "markdown",
   "id": "d52589bd",
   "metadata": {},
   "source": [
    "#### Coefficient of Variantion "
   ]
  },
  {
   "cell_type": "code",
   "execution_count": 58,
   "id": "0621ef06",
   "metadata": {},
   "outputs": [],
   "source": [
    "Standard = cereal.std(numeric_only=True)\n",
    "Mean = cereal.mean(numeric_only=True)"
   ]
  },
  {
   "cell_type": "code",
   "execution_count": 59,
   "id": "602eb2db",
   "metadata": {},
   "outputs": [
    {
     "data": {
      "text/plain": [
       "calories    0.182294\n",
       "protein     0.430096\n",
       "fat         0.993569\n",
       "sodium      0.525017\n",
       "fiber       1.107538\n",
       "carbo       0.293131\n",
       "sugars      0.642132\n",
       "potass      0.741969\n",
       "vitamins    0.790977\n",
       "shelf       0.377084\n",
       "weight      0.146149\n",
       "cups        0.283441\n",
       "rating      0.329241\n",
       "dtype: float64"
      ]
     },
     "execution_count": 59,
     "metadata": {},
     "output_type": "execute_result"
    }
   ],
   "source": [
    "Standard / Mean "
   ]
  },
  {
   "cell_type": "markdown",
   "id": "5bb95dc9",
   "metadata": {},
   "source": [
    "## Five Number Summary\n",
    "Calories"
   ]
  },
  {
   "cell_type": "code",
   "execution_count": 60,
   "id": "b33539d3",
   "metadata": {},
   "outputs": [
    {
     "data": {
      "text/plain": [
       "50"
      ]
     },
     "execution_count": 60,
     "metadata": {},
     "output_type": "execute_result"
    }
   ],
   "source": [
    "data = cereal['calories']\n",
    "data.min()"
   ]
  },
  {
   "cell_type": "code",
   "execution_count": 61,
   "id": "f61b674e",
   "metadata": {},
   "outputs": [
    {
     "data": {
      "text/plain": [
       "100.0"
      ]
     },
     "execution_count": 61,
     "metadata": {},
     "output_type": "execute_result"
    }
   ],
   "source": [
    "data.quantile(q=0.25)"
   ]
  },
  {
   "cell_type": "code",
   "execution_count": 62,
   "id": "edb32cfd",
   "metadata": {},
   "outputs": [
    {
     "data": {
      "text/plain": [
       "110.0"
      ]
     },
     "execution_count": 62,
     "metadata": {},
     "output_type": "execute_result"
    }
   ],
   "source": [
    "data.median()"
   ]
  },
  {
   "cell_type": "code",
   "execution_count": 63,
   "id": "102cf476",
   "metadata": {},
   "outputs": [
    {
     "data": {
      "text/plain": [
       "110.0"
      ]
     },
     "execution_count": 63,
     "metadata": {},
     "output_type": "execute_result"
    }
   ],
   "source": [
    "data.quantile(q=0.75)"
   ]
  },
  {
   "cell_type": "code",
   "execution_count": 64,
   "id": "04d1d74c",
   "metadata": {},
   "outputs": [
    {
     "data": {
      "text/plain": [
       "160"
      ]
     },
     "execution_count": 64,
     "metadata": {},
     "output_type": "execute_result"
    }
   ],
   "source": [
    "data.max()"
   ]
  },
  {
   "cell_type": "markdown",
   "id": "a2b238fb",
   "metadata": {},
   "source": [
    "Protein"
   ]
  },
  {
   "cell_type": "code",
   "execution_count": 65,
   "id": "2e4ee7b9",
   "metadata": {},
   "outputs": [
    {
     "data": {
      "text/plain": [
       "1"
      ]
     },
     "execution_count": 65,
     "metadata": {},
     "output_type": "execute_result"
    }
   ],
   "source": [
    "data= cereal['protein']\n",
    "data.min()"
   ]
  },
  {
   "cell_type": "code",
   "execution_count": 66,
   "id": "de9eb107",
   "metadata": {},
   "outputs": [
    {
     "data": {
      "text/plain": [
       "2.0"
      ]
     },
     "execution_count": 66,
     "metadata": {},
     "output_type": "execute_result"
    }
   ],
   "source": [
    "data.quantile(q=0.25)"
   ]
  },
  {
   "cell_type": "code",
   "execution_count": 67,
   "id": "e5692add",
   "metadata": {},
   "outputs": [
    {
     "data": {
      "text/plain": [
       "3.0"
      ]
     },
     "execution_count": 67,
     "metadata": {},
     "output_type": "execute_result"
    }
   ],
   "source": [
    "data.median()"
   ]
  },
  {
   "cell_type": "code",
   "execution_count": 68,
   "id": "ec6c9e5d",
   "metadata": {},
   "outputs": [
    {
     "data": {
      "text/plain": [
       "3.0"
      ]
     },
     "execution_count": 68,
     "metadata": {},
     "output_type": "execute_result"
    }
   ],
   "source": [
    "data.quantile(q=0.75)"
   ]
  },
  {
   "cell_type": "code",
   "execution_count": 69,
   "id": "66a19dac",
   "metadata": {},
   "outputs": [
    {
     "data": {
      "text/plain": [
       "6"
      ]
     },
     "execution_count": 69,
     "metadata": {},
     "output_type": "execute_result"
    }
   ],
   "source": [
    "data.max()"
   ]
  },
  {
   "cell_type": "markdown",
   "id": "68acab30",
   "metadata": {},
   "source": [
    "Fat"
   ]
  },
  {
   "cell_type": "code",
   "execution_count": 70,
   "id": "f5973141",
   "metadata": {},
   "outputs": [
    {
     "data": {
      "text/plain": [
       "0"
      ]
     },
     "execution_count": 70,
     "metadata": {},
     "output_type": "execute_result"
    }
   ],
   "source": [
    "data = cereal['fat']\n",
    "data.min()"
   ]
  },
  {
   "cell_type": "code",
   "execution_count": 71,
   "id": "7aeb6c76",
   "metadata": {},
   "outputs": [
    {
     "data": {
      "text/plain": [
       "0.0"
      ]
     },
     "execution_count": 71,
     "metadata": {},
     "output_type": "execute_result"
    }
   ],
   "source": [
    "data.quantile(q=0.25)"
   ]
  },
  {
   "cell_type": "code",
   "execution_count": 72,
   "id": "47320f36",
   "metadata": {},
   "outputs": [
    {
     "data": {
      "text/plain": [
       "1.0"
      ]
     },
     "execution_count": 72,
     "metadata": {},
     "output_type": "execute_result"
    }
   ],
   "source": [
    "data.median()"
   ]
  },
  {
   "cell_type": "code",
   "execution_count": 73,
   "id": "b7d547bf",
   "metadata": {},
   "outputs": [
    {
     "data": {
      "text/plain": [
       "2.0"
      ]
     },
     "execution_count": 73,
     "metadata": {},
     "output_type": "execute_result"
    }
   ],
   "source": [
    "data.quantile(q=0.75)"
   ]
  },
  {
   "cell_type": "code",
   "execution_count": 74,
   "id": "b7d9e53e",
   "metadata": {},
   "outputs": [
    {
     "data": {
      "text/plain": [
       "5"
      ]
     },
     "execution_count": 74,
     "metadata": {},
     "output_type": "execute_result"
    }
   ],
   "source": [
    "data.max()"
   ]
  },
  {
   "cell_type": "markdown",
   "id": "8a144a58",
   "metadata": {},
   "source": [
    "Sodium"
   ]
  },
  {
   "cell_type": "code",
   "execution_count": 75,
   "id": "0efa9a8d",
   "metadata": {},
   "outputs": [
    {
     "data": {
      "text/plain": [
       "0"
      ]
     },
     "execution_count": 75,
     "metadata": {},
     "output_type": "execute_result"
    }
   ],
   "source": [
    "data = cereal['sodium']\n",
    "data.min()"
   ]
  },
  {
   "cell_type": "code",
   "execution_count": 76,
   "id": "4b810783",
   "metadata": {},
   "outputs": [
    {
     "data": {
      "text/plain": [
       "130.0"
      ]
     },
     "execution_count": 76,
     "metadata": {},
     "output_type": "execute_result"
    }
   ],
   "source": [
    "data.quantile(q=0.25)"
   ]
  },
  {
   "cell_type": "code",
   "execution_count": 77,
   "id": "909513cd",
   "metadata": {},
   "outputs": [
    {
     "data": {
      "text/plain": [
       "180.0"
      ]
     },
     "execution_count": 77,
     "metadata": {},
     "output_type": "execute_result"
    }
   ],
   "source": [
    "data.median()"
   ]
  },
  {
   "cell_type": "code",
   "execution_count": 78,
   "id": "86c604b3",
   "metadata": {},
   "outputs": [
    {
     "data": {
      "text/plain": [
       "210.0"
      ]
     },
     "execution_count": 78,
     "metadata": {},
     "output_type": "execute_result"
    }
   ],
   "source": [
    "data.quantile(q=0.75)"
   ]
  },
  {
   "cell_type": "code",
   "execution_count": 79,
   "id": "1cf2b3e8",
   "metadata": {},
   "outputs": [
    {
     "data": {
      "text/plain": [
       "320"
      ]
     },
     "execution_count": 79,
     "metadata": {},
     "output_type": "execute_result"
    }
   ],
   "source": [
    "data.max()"
   ]
  },
  {
   "cell_type": "markdown",
   "id": "ab228be3",
   "metadata": {},
   "source": [
    "Fiber"
   ]
  },
  {
   "cell_type": "code",
   "execution_count": 80,
   "id": "06fb8f0a",
   "metadata": {},
   "outputs": [
    {
     "data": {
      "text/plain": [
       "0.0"
      ]
     },
     "execution_count": 80,
     "metadata": {},
     "output_type": "execute_result"
    }
   ],
   "source": [
    "data = cereal['fiber']\n",
    "data.min()"
   ]
  },
  {
   "cell_type": "code",
   "execution_count": 81,
   "id": "46c0a704",
   "metadata": {},
   "outputs": [
    {
     "data": {
      "text/plain": [
       "1.0"
      ]
     },
     "execution_count": 81,
     "metadata": {},
     "output_type": "execute_result"
    }
   ],
   "source": [
    "data.quantile(q=0.25)"
   ]
  },
  {
   "cell_type": "code",
   "execution_count": 82,
   "id": "d95d5ad1",
   "metadata": {},
   "outputs": [
    {
     "data": {
      "text/plain": [
       "2.0"
      ]
     },
     "execution_count": 82,
     "metadata": {},
     "output_type": "execute_result"
    }
   ],
   "source": [
    "data.median()"
   ]
  },
  {
   "cell_type": "code",
   "execution_count": 83,
   "id": "9bc1a0af",
   "metadata": {},
   "outputs": [
    {
     "data": {
      "text/plain": [
       "3.0"
      ]
     },
     "execution_count": 83,
     "metadata": {},
     "output_type": "execute_result"
    }
   ],
   "source": [
    "data.quantile(q=0.75)"
   ]
  },
  {
   "cell_type": "code",
   "execution_count": 84,
   "id": "98f4bd7d",
   "metadata": {},
   "outputs": [
    {
     "data": {
      "text/plain": [
       "14.0"
      ]
     },
     "execution_count": 84,
     "metadata": {},
     "output_type": "execute_result"
    }
   ],
   "source": [
    "data.max()"
   ]
  },
  {
   "cell_type": "markdown",
   "id": "ed482f1d",
   "metadata": {},
   "source": [
    "Carbohydrates"
   ]
  },
  {
   "cell_type": "code",
   "execution_count": 85,
   "id": "9827b1ca",
   "metadata": {},
   "outputs": [
    {
     "data": {
      "text/plain": [
       "-1.0"
      ]
     },
     "execution_count": 85,
     "metadata": {},
     "output_type": "execute_result"
    }
   ],
   "source": [
    "data = cereal['carbo']\n",
    "data.min()"
   ]
  },
  {
   "cell_type": "code",
   "execution_count": 86,
   "id": "320a9bf7",
   "metadata": {},
   "outputs": [
    {
     "data": {
      "text/plain": [
       "12.0"
      ]
     },
     "execution_count": 86,
     "metadata": {},
     "output_type": "execute_result"
    }
   ],
   "source": [
    "data.quantile(q=0.25)"
   ]
  },
  {
   "cell_type": "code",
   "execution_count": 87,
   "id": "9fe476d2",
   "metadata": {},
   "outputs": [
    {
     "data": {
      "text/plain": [
       "14.0"
      ]
     },
     "execution_count": 87,
     "metadata": {},
     "output_type": "execute_result"
    }
   ],
   "source": [
    "data.median()"
   ]
  },
  {
   "cell_type": "code",
   "execution_count": 88,
   "id": "f13e0750",
   "metadata": {},
   "outputs": [
    {
     "data": {
      "text/plain": [
       "17.0"
      ]
     },
     "execution_count": 88,
     "metadata": {},
     "output_type": "execute_result"
    }
   ],
   "source": [
    "data.quantile(q=0.75)"
   ]
  },
  {
   "cell_type": "code",
   "execution_count": 89,
   "id": "63eff0c6",
   "metadata": {},
   "outputs": [
    {
     "data": {
      "text/plain": [
       "23.0"
      ]
     },
     "execution_count": 89,
     "metadata": {},
     "output_type": "execute_result"
    }
   ],
   "source": [
    "data.max()"
   ]
  },
  {
   "cell_type": "markdown",
   "id": "9e1b1ea4",
   "metadata": {},
   "source": [
    "Sugars"
   ]
  },
  {
   "cell_type": "code",
   "execution_count": 90,
   "id": "eee29290",
   "metadata": {},
   "outputs": [
    {
     "data": {
      "text/plain": [
       "-1"
      ]
     },
     "execution_count": 90,
     "metadata": {},
     "output_type": "execute_result"
    }
   ],
   "source": [
    "data = cereal['sugars']\n",
    "data.min()"
   ]
  },
  {
   "cell_type": "code",
   "execution_count": 91,
   "id": "6605c932",
   "metadata": {},
   "outputs": [
    {
     "data": {
      "text/plain": [
       "3.0"
      ]
     },
     "execution_count": 91,
     "metadata": {},
     "output_type": "execute_result"
    }
   ],
   "source": [
    "data.quantile(q=0.25)"
   ]
  },
  {
   "cell_type": "code",
   "execution_count": 92,
   "id": "d7a13856",
   "metadata": {},
   "outputs": [
    {
     "data": {
      "text/plain": [
       "7.0"
      ]
     },
     "execution_count": 92,
     "metadata": {},
     "output_type": "execute_result"
    }
   ],
   "source": [
    "data.median()"
   ]
  },
  {
   "cell_type": "code",
   "execution_count": 93,
   "id": "f4158ad3",
   "metadata": {},
   "outputs": [
    {
     "data": {
      "text/plain": [
       "11.0"
      ]
     },
     "execution_count": 93,
     "metadata": {},
     "output_type": "execute_result"
    }
   ],
   "source": [
    "data.quantile(q=0.75)"
   ]
  },
  {
   "cell_type": "code",
   "execution_count": 94,
   "id": "8999c5da",
   "metadata": {},
   "outputs": [
    {
     "data": {
      "text/plain": [
       "15"
      ]
     },
     "execution_count": 94,
     "metadata": {},
     "output_type": "execute_result"
    }
   ],
   "source": [
    "data.max()"
   ]
  },
  {
   "cell_type": "markdown",
   "id": "38c390d3",
   "metadata": {},
   "source": [
    "Potassium"
   ]
  },
  {
   "cell_type": "code",
   "execution_count": 95,
   "id": "687851ce",
   "metadata": {},
   "outputs": [
    {
     "data": {
      "text/plain": [
       "-1"
      ]
     },
     "execution_count": 95,
     "metadata": {},
     "output_type": "execute_result"
    }
   ],
   "source": [
    "data = cereal['potass']\n",
    "data.min()"
   ]
  },
  {
   "cell_type": "code",
   "execution_count": 96,
   "id": "b2ff20f8",
   "metadata": {},
   "outputs": [
    {
     "data": {
      "text/plain": [
       "40.0"
      ]
     },
     "execution_count": 96,
     "metadata": {},
     "output_type": "execute_result"
    }
   ],
   "source": [
    "data.quantile(q=0.25)"
   ]
  },
  {
   "cell_type": "code",
   "execution_count": 97,
   "id": "ff7b5135",
   "metadata": {},
   "outputs": [
    {
     "data": {
      "text/plain": [
       "90.0"
      ]
     },
     "execution_count": 97,
     "metadata": {},
     "output_type": "execute_result"
    }
   ],
   "source": [
    "data.median()"
   ]
  },
  {
   "cell_type": "code",
   "execution_count": 98,
   "id": "e61b50d3",
   "metadata": {},
   "outputs": [
    {
     "data": {
      "text/plain": [
       "120.0"
      ]
     },
     "execution_count": 98,
     "metadata": {},
     "output_type": "execute_result"
    }
   ],
   "source": [
    "data.quantile(q=0.75)"
   ]
  },
  {
   "cell_type": "code",
   "execution_count": 99,
   "id": "431a6654",
   "metadata": {},
   "outputs": [
    {
     "data": {
      "text/plain": [
       "330"
      ]
     },
     "execution_count": 99,
     "metadata": {},
     "output_type": "execute_result"
    }
   ],
   "source": [
    "data.max()"
   ]
  },
  {
   "cell_type": "markdown",
   "id": "313d096a",
   "metadata": {},
   "source": [
    "Vitamins"
   ]
  },
  {
   "cell_type": "code",
   "execution_count": 100,
   "id": "e26ae121",
   "metadata": {},
   "outputs": [
    {
     "data": {
      "text/plain": [
       "0"
      ]
     },
     "execution_count": 100,
     "metadata": {},
     "output_type": "execute_result"
    }
   ],
   "source": [
    "data = cereal['vitamins']\n",
    "data.min()"
   ]
  },
  {
   "cell_type": "code",
   "execution_count": 101,
   "id": "467aa556",
   "metadata": {},
   "outputs": [
    {
     "data": {
      "text/plain": [
       "25.0"
      ]
     },
     "execution_count": 101,
     "metadata": {},
     "output_type": "execute_result"
    }
   ],
   "source": [
    "data.quantile(q=0.25)"
   ]
  },
  {
   "cell_type": "code",
   "execution_count": 102,
   "id": "556271d2",
   "metadata": {},
   "outputs": [
    {
     "data": {
      "text/plain": [
       "25.0"
      ]
     },
     "execution_count": 102,
     "metadata": {},
     "output_type": "execute_result"
    }
   ],
   "source": [
    "data.median()"
   ]
  },
  {
   "cell_type": "code",
   "execution_count": 103,
   "id": "2a9325fc",
   "metadata": {},
   "outputs": [
    {
     "data": {
      "text/plain": [
       "25.0"
      ]
     },
     "execution_count": 103,
     "metadata": {},
     "output_type": "execute_result"
    }
   ],
   "source": [
    "data.quantile(q=0.75)"
   ]
  },
  {
   "cell_type": "code",
   "execution_count": 104,
   "id": "649e40b3",
   "metadata": {},
   "outputs": [
    {
     "data": {
      "text/plain": [
       "100"
      ]
     },
     "execution_count": 104,
     "metadata": {},
     "output_type": "execute_result"
    }
   ],
   "source": [
    "data.max()"
   ]
  },
  {
   "cell_type": "markdown",
   "id": "1b881e1d",
   "metadata": {},
   "source": [
    "Shelf "
   ]
  },
  {
   "cell_type": "code",
   "execution_count": 105,
   "id": "e76b85d8",
   "metadata": {},
   "outputs": [
    {
     "data": {
      "text/plain": [
       "1"
      ]
     },
     "execution_count": 105,
     "metadata": {},
     "output_type": "execute_result"
    }
   ],
   "source": [
    "data = cereal['shelf']\n",
    "data.min()"
   ]
  },
  {
   "cell_type": "code",
   "execution_count": 106,
   "id": "165c6ed5",
   "metadata": {},
   "outputs": [
    {
     "data": {
      "text/plain": [
       "1.0"
      ]
     },
     "execution_count": 106,
     "metadata": {},
     "output_type": "execute_result"
    }
   ],
   "source": [
    "data.quantile(q=0.25)"
   ]
  },
  {
   "cell_type": "code",
   "execution_count": 107,
   "id": "0354a718",
   "metadata": {},
   "outputs": [
    {
     "data": {
      "text/plain": [
       "2.0"
      ]
     },
     "execution_count": 107,
     "metadata": {},
     "output_type": "execute_result"
    }
   ],
   "source": [
    "data.median()"
   ]
  },
  {
   "cell_type": "code",
   "execution_count": 108,
   "id": "9b3ff650",
   "metadata": {},
   "outputs": [
    {
     "data": {
      "text/plain": [
       "3.0"
      ]
     },
     "execution_count": 108,
     "metadata": {},
     "output_type": "execute_result"
    }
   ],
   "source": [
    "data.quantile(q=0.75)"
   ]
  },
  {
   "cell_type": "code",
   "execution_count": 109,
   "id": "3582f029",
   "metadata": {},
   "outputs": [
    {
     "data": {
      "text/plain": [
       "3"
      ]
     },
     "execution_count": 109,
     "metadata": {},
     "output_type": "execute_result"
    }
   ],
   "source": [
    "data.max()"
   ]
  },
  {
   "cell_type": "markdown",
   "id": "6d9c0c30",
   "metadata": {},
   "source": [
    "Weight"
   ]
  },
  {
   "cell_type": "code",
   "execution_count": 110,
   "id": "e4d90f53",
   "metadata": {},
   "outputs": [
    {
     "data": {
      "text/plain": [
       "0.5"
      ]
     },
     "execution_count": 110,
     "metadata": {},
     "output_type": "execute_result"
    }
   ],
   "source": [
    "data = cereal['weight']\n",
    "data.min()"
   ]
  },
  {
   "cell_type": "code",
   "execution_count": 111,
   "id": "33d60f88",
   "metadata": {},
   "outputs": [
    {
     "data": {
      "text/plain": [
       "1.0"
      ]
     },
     "execution_count": 111,
     "metadata": {},
     "output_type": "execute_result"
    }
   ],
   "source": [
    "data.quantile(q=0.25)"
   ]
  },
  {
   "cell_type": "code",
   "execution_count": 112,
   "id": "e1a724b7",
   "metadata": {},
   "outputs": [
    {
     "data": {
      "text/plain": [
       "1.0"
      ]
     },
     "execution_count": 112,
     "metadata": {},
     "output_type": "execute_result"
    }
   ],
   "source": [
    "data.median()"
   ]
  },
  {
   "cell_type": "code",
   "execution_count": 113,
   "id": "84c68b41",
   "metadata": {},
   "outputs": [
    {
     "data": {
      "text/plain": [
       "1.0"
      ]
     },
     "execution_count": 113,
     "metadata": {},
     "output_type": "execute_result"
    }
   ],
   "source": [
    "data.quantile(q=0.75)"
   ]
  },
  {
   "cell_type": "code",
   "execution_count": 114,
   "id": "15c67f4f",
   "metadata": {},
   "outputs": [
    {
     "data": {
      "text/plain": [
       "1.5"
      ]
     },
     "execution_count": 114,
     "metadata": {},
     "output_type": "execute_result"
    }
   ],
   "source": [
    "data.max()"
   ]
  },
  {
   "cell_type": "markdown",
   "id": "670acccf",
   "metadata": {},
   "source": [
    "Cups"
   ]
  },
  {
   "cell_type": "code",
   "execution_count": 115,
   "id": "dc86e1d9",
   "metadata": {},
   "outputs": [
    {
     "data": {
      "text/plain": [
       "0.25"
      ]
     },
     "execution_count": 115,
     "metadata": {},
     "output_type": "execute_result"
    }
   ],
   "source": [
    "data = cereal['cups']\n",
    "data.min()"
   ]
  },
  {
   "cell_type": "code",
   "execution_count": 116,
   "id": "4a003b8a",
   "metadata": {},
   "outputs": [
    {
     "data": {
      "text/plain": [
       "0.67"
      ]
     },
     "execution_count": 116,
     "metadata": {},
     "output_type": "execute_result"
    }
   ],
   "source": [
    "data.quantile(q=0.25)"
   ]
  },
  {
   "cell_type": "code",
   "execution_count": 117,
   "id": "9507ad3b",
   "metadata": {},
   "outputs": [
    {
     "data": {
      "text/plain": [
       "0.75"
      ]
     },
     "execution_count": 117,
     "metadata": {},
     "output_type": "execute_result"
    }
   ],
   "source": [
    "data.median()"
   ]
  },
  {
   "cell_type": "code",
   "execution_count": 118,
   "id": "4463a3aa",
   "metadata": {},
   "outputs": [
    {
     "data": {
      "text/plain": [
       "1.0"
      ]
     },
     "execution_count": 118,
     "metadata": {},
     "output_type": "execute_result"
    }
   ],
   "source": [
    "data.quantile(q=0.75)"
   ]
  },
  {
   "cell_type": "code",
   "execution_count": 119,
   "id": "3464c6aa",
   "metadata": {},
   "outputs": [
    {
     "data": {
      "text/plain": [
       "1.5"
      ]
     },
     "execution_count": 119,
     "metadata": {},
     "output_type": "execute_result"
    }
   ],
   "source": [
    "data.max()"
   ]
  },
  {
   "cell_type": "markdown",
   "id": "eef2ffef",
   "metadata": {},
   "source": [
    "Rating"
   ]
  },
  {
   "cell_type": "code",
   "execution_count": 120,
   "id": "4290f111",
   "metadata": {},
   "outputs": [
    {
     "data": {
      "text/plain": [
       "18.042851"
      ]
     },
     "execution_count": 120,
     "metadata": {},
     "output_type": "execute_result"
    }
   ],
   "source": [
    "data = cereal['rating']\n",
    "data.min()"
   ]
  },
  {
   "cell_type": "code",
   "execution_count": 121,
   "id": "49c2c983",
   "metadata": {},
   "outputs": [
    {
     "data": {
      "text/plain": [
       "33.174094"
      ]
     },
     "execution_count": 121,
     "metadata": {},
     "output_type": "execute_result"
    }
   ],
   "source": [
    "data.quantile(q=0.25)"
   ]
  },
  {
   "cell_type": "code",
   "execution_count": 122,
   "id": "e3cfc79d",
   "metadata": {},
   "outputs": [
    {
     "data": {
      "text/plain": [
       "40.400208"
      ]
     },
     "execution_count": 122,
     "metadata": {},
     "output_type": "execute_result"
    }
   ],
   "source": [
    "data.median()"
   ]
  },
  {
   "cell_type": "code",
   "execution_count": 123,
   "id": "8813e6f2",
   "metadata": {},
   "outputs": [
    {
     "data": {
      "text/plain": [
       "50.828392"
      ]
     },
     "execution_count": 123,
     "metadata": {},
     "output_type": "execute_result"
    }
   ],
   "source": [
    "data.quantile(q=0.75)"
   ]
  },
  {
   "cell_type": "code",
   "execution_count": 124,
   "id": "b965f45f",
   "metadata": {},
   "outputs": [
    {
     "data": {
      "text/plain": [
       "93.704912"
      ]
     },
     "execution_count": 124,
     "metadata": {},
     "output_type": "execute_result"
    }
   ],
   "source": [
    "data.max()"
   ]
  },
  {
   "cell_type": "markdown",
   "id": "a1fc9525",
   "metadata": {},
   "source": [
    "## Measures of Association\n",
    "Covariantion"
   ]
  },
  {
   "cell_type": "code",
   "execution_count": 125,
   "id": "921403c9",
   "metadata": {},
   "outputs": [
    {
     "data": {
      "text/plain": [
       "0.4066985645933009"
      ]
     },
     "execution_count": 125,
     "metadata": {},
     "output_type": "execute_result"
    }
   ],
   "source": [
    "a = cereal['calories']\n",
    "b = cereal['protein']\n",
    "((a -  a.mean()) * (b -  b.mean())).sum() / (cereal.shape[0] - 1)"
   ]
  },
  {
   "cell_type": "code",
   "execution_count": 126,
   "id": "bce6299d",
   "metadata": {},
   "outputs": [
    {
     "data": {
      "text/plain": [
       "9.777853725222148"
      ]
     },
     "execution_count": 126,
     "metadata": {},
     "output_type": "execute_result"
    }
   ],
   "source": [
    "a = cereal['calories']\n",
    "b = cereal['fat']\n",
    "((a -  a.mean()) * (b -  b.mean())).sum() / (cereal.shape[0] - 1)"
   ]
  },
  {
   "cell_type": "code",
   "execution_count": 127,
   "id": "6b0e2e77",
   "metadata": {},
   "outputs": [
    {
     "data": {
      "text/plain": [
       "491.0799726589199"
      ]
     },
     "execution_count": 127,
     "metadata": {},
     "output_type": "execute_result"
    }
   ],
   "source": [
    "a = cereal['calories']\n",
    "b = cereal['sodium']\n",
    "((a -  a.mean()) * (b -  b.mean())).sum() / (cereal.shape[0] - 1)"
   ]
  },
  {
   "cell_type": "code",
   "execution_count": 128,
   "id": "2ba4c9af",
   "metadata": {},
   "outputs": [
    {
     "data": {
      "text/plain": [
       "-13.625427204374573"
      ]
     },
     "execution_count": 128,
     "metadata": {},
     "output_type": "execute_result"
    }
   ],
   "source": [
    "a = cereal['calories']\n",
    "b = cereal['fiber']\n",
    "((a -  a.mean()) * (b -  b.mean())).sum() / (cereal.shape[0] - 1)"
   ]
  },
  {
   "cell_type": "code",
   "execution_count": 129,
   "id": "bb238367",
   "metadata": {},
   "outputs": [
    {
     "data": {
      "text/plain": [
       "20.89969241285031"
      ]
     },
     "execution_count": 129,
     "metadata": {},
     "output_type": "execute_result"
    }
   ],
   "source": [
    "a = cereal['calories']\n",
    "b = cereal['carbo']\n",
    "((a -  a.mean()) * (b -  b.mean())).sum() / (cereal.shape[0] - 1)"
   ]
  },
  {
   "cell_type": "code",
   "execution_count": 130,
   "id": "bc823633",
   "metadata": {},
   "outputs": [
    {
     "data": {
      "text/plain": [
       "48.70129870129871"
      ]
     },
     "execution_count": 130,
     "metadata": {},
     "output_type": "execute_result"
    }
   ],
   "source": [
    "a = cereal['calories']\n",
    "b = cereal['sugars']\n",
    "((a -  a.mean()) * (b -  b.mean())).sum() / (cereal.shape[0] - 1)"
   ]
  },
  {
   "cell_type": "code",
   "execution_count": 131,
   "id": "2c5cc0d9",
   "metadata": {},
   "outputs": [
    {
     "data": {
      "text/plain": [
       "-92.51708817498286"
      ]
     },
     "execution_count": 131,
     "metadata": {},
     "output_type": "execute_result"
    }
   ],
   "source": [
    "a = cereal['calories']\n",
    "b = cereal['potass']\n",
    "((a -  a.mean()) * (b -  b.mean())).sum() / (cereal.shape[0] - 1)"
   ]
  },
  {
   "cell_type": "code",
   "execution_count": 132,
   "id": "eba48704",
   "metadata": {},
   "outputs": [
    {
     "data": {
      "text/plain": [
       "115.51606288448396"
      ]
     },
     "execution_count": 132,
     "metadata": {},
     "output_type": "execute_result"
    }
   ],
   "source": [
    "a = cereal['calories']\n",
    "b = cereal['vitamins']\n",
    "((a -  a.mean()) * (b -  b.mean())).sum() / (cereal.shape[0] - 1)"
   ]
  },
  {
   "cell_type": "code",
   "execution_count": 133,
   "id": "1713ba4f",
   "metadata": {},
   "outputs": [
    {
     "data": {
      "text/plain": [
       "1.5772385509227618"
      ]
     },
     "execution_count": 133,
     "metadata": {},
     "output_type": "execute_result"
    }
   ],
   "source": [
    "a = cereal['calories']\n",
    "b = cereal['shelf']\n",
    "((a -  a.mean()) * (b -  b.mean())).sum() / (cereal.shape[0] - 1)"
   ]
  },
  {
   "cell_type": "code",
   "execution_count": 134,
   "id": "8bfc7d3e",
   "metadata": {},
   "outputs": [
    {
     "data": {
      "text/plain": [
       "2.040874914559125"
      ]
     },
     "execution_count": 134,
     "metadata": {},
     "output_type": "execute_result"
    }
   ],
   "source": [
    "a = cereal['calories']\n",
    "b = cereal['weight']\n",
    "((a -  a.mean()) * (b -  b.mean())).sum() / (cereal.shape[0] - 1)"
   ]
  },
  {
   "cell_type": "code",
   "execution_count": 135,
   "id": "8f3e482e",
   "metadata": {},
   "outputs": [
    {
     "data": {
      "text/plain": [
       "0.3953861927546139"
      ]
     },
     "execution_count": 135,
     "metadata": {},
     "output_type": "execute_result"
    }
   ],
   "source": [
    "a = cereal['calories']\n",
    "b = cereal['cups']\n",
    "((a -  a.mean()) * (b -  b.mean())).sum() / (cereal.shape[0] - 1)"
   ]
  },
  {
   "cell_type": "code",
   "execution_count": 136,
   "id": "0efb74f1",
   "metadata": {},
   "outputs": [
    {
     "data": {
      "text/plain": [
       "-188.68156227785371"
      ]
     },
     "execution_count": 136,
     "metadata": {},
     "output_type": "execute_result"
    }
   ],
   "source": [
    "a = cereal['calories']\n",
    "b = cereal['rating']\n",
    "((a -  a.mean()) * (b -  b.mean())).sum() / (cereal.shape[0] - 1)"
   ]
  },
  {
   "cell_type": "markdown",
   "id": "9a0412eb",
   "metadata": {},
   "source": [
    "Correletion Coefficient"
   ]
  },
  {
   "cell_type": "code",
   "execution_count": 137,
   "id": "643b53fb",
   "metadata": {},
   "outputs": [
    {
     "data": {
      "text/html": [
       "<div>\n",
       "<style scoped>\n",
       "    .dataframe tbody tr th:only-of-type {\n",
       "        vertical-align: middle;\n",
       "    }\n",
       "\n",
       "    .dataframe tbody tr th {\n",
       "        vertical-align: top;\n",
       "    }\n",
       "\n",
       "    .dataframe thead th {\n",
       "        text-align: right;\n",
       "    }\n",
       "</style>\n",
       "<table border=\"1\" class=\"dataframe\">\n",
       "  <thead>\n",
       "    <tr style=\"text-align: right;\">\n",
       "      <th></th>\n",
       "      <th>calories</th>\n",
       "      <th>protein</th>\n",
       "      <th>fat</th>\n",
       "      <th>sodium</th>\n",
       "      <th>fiber</th>\n",
       "      <th>carbo</th>\n",
       "      <th>sugars</th>\n",
       "      <th>potass</th>\n",
       "      <th>vitamins</th>\n",
       "      <th>shelf</th>\n",
       "      <th>weight</th>\n",
       "      <th>cups</th>\n",
       "      <th>rating</th>\n",
       "    </tr>\n",
       "  </thead>\n",
       "  <tbody>\n",
       "    <tr>\n",
       "      <th>calories</th>\n",
       "      <td>1.000000</td>\n",
       "      <td>0.019066</td>\n",
       "      <td>0.498610</td>\n",
       "      <td>0.300649</td>\n",
       "      <td>-0.293413</td>\n",
       "      <td>0.250681</td>\n",
       "      <td>0.562340</td>\n",
       "      <td>-0.066609</td>\n",
       "      <td>0.265356</td>\n",
       "      <td>0.097234</td>\n",
       "      <td>0.696091</td>\n",
       "      <td>0.087200</td>\n",
       "      <td>-0.689376</td>\n",
       "    </tr>\n",
       "    <tr>\n",
       "      <th>protein</th>\n",
       "      <td>0.019066</td>\n",
       "      <td>1.000000</td>\n",
       "      <td>0.208431</td>\n",
       "      <td>-0.054674</td>\n",
       "      <td>0.500330</td>\n",
       "      <td>-0.130864</td>\n",
       "      <td>-0.329142</td>\n",
       "      <td>0.549407</td>\n",
       "      <td>0.007335</td>\n",
       "      <td>0.133865</td>\n",
       "      <td>0.216158</td>\n",
       "      <td>-0.244469</td>\n",
       "      <td>0.470618</td>\n",
       "    </tr>\n",
       "    <tr>\n",
       "      <th>fat</th>\n",
       "      <td>0.498610</td>\n",
       "      <td>0.208431</td>\n",
       "      <td>1.000000</td>\n",
       "      <td>-0.005407</td>\n",
       "      <td>0.016719</td>\n",
       "      <td>-0.318043</td>\n",
       "      <td>0.270819</td>\n",
       "      <td>0.193279</td>\n",
       "      <td>-0.031156</td>\n",
       "      <td>0.263691</td>\n",
       "      <td>0.214625</td>\n",
       "      <td>-0.175892</td>\n",
       "      <td>-0.409284</td>\n",
       "    </tr>\n",
       "    <tr>\n",
       "      <th>sodium</th>\n",
       "      <td>0.300649</td>\n",
       "      <td>-0.054674</td>\n",
       "      <td>-0.005407</td>\n",
       "      <td>1.000000</td>\n",
       "      <td>-0.070675</td>\n",
       "      <td>0.355983</td>\n",
       "      <td>0.101451</td>\n",
       "      <td>-0.032603</td>\n",
       "      <td>0.361477</td>\n",
       "      <td>-0.069719</td>\n",
       "      <td>0.308576</td>\n",
       "      <td>0.119665</td>\n",
       "      <td>-0.401295</td>\n",
       "    </tr>\n",
       "    <tr>\n",
       "      <th>fiber</th>\n",
       "      <td>-0.293413</td>\n",
       "      <td>0.500330</td>\n",
       "      <td>0.016719</td>\n",
       "      <td>-0.070675</td>\n",
       "      <td>1.000000</td>\n",
       "      <td>-0.356083</td>\n",
       "      <td>-0.141205</td>\n",
       "      <td>0.903374</td>\n",
       "      <td>-0.032243</td>\n",
       "      <td>0.297539</td>\n",
       "      <td>0.247226</td>\n",
       "      <td>-0.513061</td>\n",
       "      <td>0.584160</td>\n",
       "    </tr>\n",
       "    <tr>\n",
       "      <th>carbo</th>\n",
       "      <td>0.250681</td>\n",
       "      <td>-0.130864</td>\n",
       "      <td>-0.318043</td>\n",
       "      <td>0.355983</td>\n",
       "      <td>-0.356083</td>\n",
       "      <td>1.000000</td>\n",
       "      <td>-0.331665</td>\n",
       "      <td>-0.349685</td>\n",
       "      <td>0.258148</td>\n",
       "      <td>-0.101790</td>\n",
       "      <td>0.135136</td>\n",
       "      <td>0.363932</td>\n",
       "      <td>0.052055</td>\n",
       "    </tr>\n",
       "    <tr>\n",
       "      <th>sugars</th>\n",
       "      <td>0.562340</td>\n",
       "      <td>-0.329142</td>\n",
       "      <td>0.270819</td>\n",
       "      <td>0.101451</td>\n",
       "      <td>-0.141205</td>\n",
       "      <td>-0.331665</td>\n",
       "      <td>1.000000</td>\n",
       "      <td>0.021696</td>\n",
       "      <td>0.125137</td>\n",
       "      <td>0.100438</td>\n",
       "      <td>0.450648</td>\n",
       "      <td>-0.032358</td>\n",
       "      <td>-0.759675</td>\n",
       "    </tr>\n",
       "    <tr>\n",
       "      <th>potass</th>\n",
       "      <td>-0.066609</td>\n",
       "      <td>0.549407</td>\n",
       "      <td>0.193279</td>\n",
       "      <td>-0.032603</td>\n",
       "      <td>0.903374</td>\n",
       "      <td>-0.349685</td>\n",
       "      <td>0.021696</td>\n",
       "      <td>1.000000</td>\n",
       "      <td>0.020699</td>\n",
       "      <td>0.360663</td>\n",
       "      <td>0.416303</td>\n",
       "      <td>-0.495195</td>\n",
       "      <td>0.380165</td>\n",
       "    </tr>\n",
       "    <tr>\n",
       "      <th>vitamins</th>\n",
       "      <td>0.265356</td>\n",
       "      <td>0.007335</td>\n",
       "      <td>-0.031156</td>\n",
       "      <td>0.361477</td>\n",
       "      <td>-0.032243</td>\n",
       "      <td>0.258148</td>\n",
       "      <td>0.125137</td>\n",
       "      <td>0.020699</td>\n",
       "      <td>1.000000</td>\n",
       "      <td>0.299262</td>\n",
       "      <td>0.320324</td>\n",
       "      <td>0.128405</td>\n",
       "      <td>-0.240544</td>\n",
       "    </tr>\n",
       "    <tr>\n",
       "      <th>shelf</th>\n",
       "      <td>0.097234</td>\n",
       "      <td>0.133865</td>\n",
       "      <td>0.263691</td>\n",
       "      <td>-0.069719</td>\n",
       "      <td>0.297539</td>\n",
       "      <td>-0.101790</td>\n",
       "      <td>0.100438</td>\n",
       "      <td>0.360663</td>\n",
       "      <td>0.299262</td>\n",
       "      <td>1.000000</td>\n",
       "      <td>0.190762</td>\n",
       "      <td>-0.335269</td>\n",
       "      <td>0.025159</td>\n",
       "    </tr>\n",
       "    <tr>\n",
       "      <th>weight</th>\n",
       "      <td>0.696091</td>\n",
       "      <td>0.216158</td>\n",
       "      <td>0.214625</td>\n",
       "      <td>0.308576</td>\n",
       "      <td>0.247226</td>\n",
       "      <td>0.135136</td>\n",
       "      <td>0.450648</td>\n",
       "      <td>0.416303</td>\n",
       "      <td>0.320324</td>\n",
       "      <td>0.190762</td>\n",
       "      <td>1.000000</td>\n",
       "      <td>-0.199583</td>\n",
       "      <td>-0.298124</td>\n",
       "    </tr>\n",
       "    <tr>\n",
       "      <th>cups</th>\n",
       "      <td>0.087200</td>\n",
       "      <td>-0.244469</td>\n",
       "      <td>-0.175892</td>\n",
       "      <td>0.119665</td>\n",
       "      <td>-0.513061</td>\n",
       "      <td>0.363932</td>\n",
       "      <td>-0.032358</td>\n",
       "      <td>-0.495195</td>\n",
       "      <td>0.128405</td>\n",
       "      <td>-0.335269</td>\n",
       "      <td>-0.199583</td>\n",
       "      <td>1.000000</td>\n",
       "      <td>-0.203160</td>\n",
       "    </tr>\n",
       "    <tr>\n",
       "      <th>rating</th>\n",
       "      <td>-0.689376</td>\n",
       "      <td>0.470618</td>\n",
       "      <td>-0.409284</td>\n",
       "      <td>-0.401295</td>\n",
       "      <td>0.584160</td>\n",
       "      <td>0.052055</td>\n",
       "      <td>-0.759675</td>\n",
       "      <td>0.380165</td>\n",
       "      <td>-0.240544</td>\n",
       "      <td>0.025159</td>\n",
       "      <td>-0.298124</td>\n",
       "      <td>-0.203160</td>\n",
       "      <td>1.000000</td>\n",
       "    </tr>\n",
       "  </tbody>\n",
       "</table>\n",
       "</div>"
      ],
      "text/plain": [
       "          calories   protein       fat    sodium     fiber     carbo   \n",
       "calories  1.000000  0.019066  0.498610  0.300649 -0.293413  0.250681  \\\n",
       "protein   0.019066  1.000000  0.208431 -0.054674  0.500330 -0.130864   \n",
       "fat       0.498610  0.208431  1.000000 -0.005407  0.016719 -0.318043   \n",
       "sodium    0.300649 -0.054674 -0.005407  1.000000 -0.070675  0.355983   \n",
       "fiber    -0.293413  0.500330  0.016719 -0.070675  1.000000 -0.356083   \n",
       "carbo     0.250681 -0.130864 -0.318043  0.355983 -0.356083  1.000000   \n",
       "sugars    0.562340 -0.329142  0.270819  0.101451 -0.141205 -0.331665   \n",
       "potass   -0.066609  0.549407  0.193279 -0.032603  0.903374 -0.349685   \n",
       "vitamins  0.265356  0.007335 -0.031156  0.361477 -0.032243  0.258148   \n",
       "shelf     0.097234  0.133865  0.263691 -0.069719  0.297539 -0.101790   \n",
       "weight    0.696091  0.216158  0.214625  0.308576  0.247226  0.135136   \n",
       "cups      0.087200 -0.244469 -0.175892  0.119665 -0.513061  0.363932   \n",
       "rating   -0.689376  0.470618 -0.409284 -0.401295  0.584160  0.052055   \n",
       "\n",
       "            sugars    potass  vitamins     shelf    weight      cups    rating  \n",
       "calories  0.562340 -0.066609  0.265356  0.097234  0.696091  0.087200 -0.689376  \n",
       "protein  -0.329142  0.549407  0.007335  0.133865  0.216158 -0.244469  0.470618  \n",
       "fat       0.270819  0.193279 -0.031156  0.263691  0.214625 -0.175892 -0.409284  \n",
       "sodium    0.101451 -0.032603  0.361477 -0.069719  0.308576  0.119665 -0.401295  \n",
       "fiber    -0.141205  0.903374 -0.032243  0.297539  0.247226 -0.513061  0.584160  \n",
       "carbo    -0.331665 -0.349685  0.258148 -0.101790  0.135136  0.363932  0.052055  \n",
       "sugars    1.000000  0.021696  0.125137  0.100438  0.450648 -0.032358 -0.759675  \n",
       "potass    0.021696  1.000000  0.020699  0.360663  0.416303 -0.495195  0.380165  \n",
       "vitamins  0.125137  0.020699  1.000000  0.299262  0.320324  0.128405 -0.240544  \n",
       "shelf     0.100438  0.360663  0.299262  1.000000  0.190762 -0.335269  0.025159  \n",
       "weight    0.450648  0.416303  0.320324  0.190762  1.000000 -0.199583 -0.298124  \n",
       "cups     -0.032358 -0.495195  0.128405 -0.335269 -0.199583  1.000000 -0.203160  \n",
       "rating   -0.759675  0.380165 -0.240544  0.025159 -0.298124 -0.203160  1.000000  "
      ]
     },
     "execution_count": 137,
     "metadata": {},
     "output_type": "execute_result"
    }
   ],
   "source": [
    "cereal[['calories','protein','fat', 'sodium', 'fiber','carbo','sugars','potass','vitamins','shelf','weight','cups','rating']].corr(method='pearson')"
   ]
  },
  {
   "cell_type": "markdown",
   "id": "eb31d7bd",
   "metadata": {},
   "source": [
    "## Z-Scores\n",
    "Calories"
   ]
  },
  {
   "cell_type": "code",
   "execution_count": 138,
   "id": "e16e6806",
   "metadata": {},
   "outputs": [
    {
     "name": "stdout",
     "output_type": "stream",
     "text": [
      "0      64.514347\n",
      "1     114.514347\n",
      "2      64.514347\n",
      "3      44.514347\n",
      "4     104.514347\n",
      "         ...    \n",
      "72    104.514347\n",
      "73    104.514347\n",
      "74     94.514347\n",
      "75     94.514347\n",
      "76    104.514347\n",
      "Name: calories, Length: 77, dtype: float64\n"
     ]
    }
   ],
   "source": [
    "data = cereal['calories']\n",
    "data_z_scores = (data - data.mean()/(data.std()))\n",
    "print ( data_z_scores, )"
   ]
  },
  {
   "cell_type": "markdown",
   "id": "889b330c",
   "metadata": {},
   "source": [
    "Protein"
   ]
  },
  {
   "cell_type": "code",
   "execution_count": 139,
   "id": "29332a59",
   "metadata": {},
   "outputs": [
    {
     "name": "stdout",
     "output_type": "stream",
     "text": [
      "0     1.674938\n",
      "1     0.674938\n",
      "2     1.674938\n",
      "3     1.674938\n",
      "4    -0.325062\n",
      "        ...   \n",
      "72   -0.325062\n",
      "73   -1.325062\n",
      "74    0.674938\n",
      "75    0.674938\n",
      "76   -0.325062\n",
      "Name: protein, Length: 77, dtype: float64\n"
     ]
    }
   ],
   "source": [
    "data = cereal['protein']\n",
    "data_z_scores = (data - data.mean()/(data.std()))\n",
    "print ( data_z_scores, )"
   ]
  },
  {
   "cell_type": "markdown",
   "id": "00f4b173",
   "metadata": {},
   "source": [
    "Fat"
   ]
  },
  {
   "cell_type": "code",
   "execution_count": 140,
   "id": "036369cc",
   "metadata": {},
   "outputs": [
    {
     "name": "stdout",
     "output_type": "stream",
     "text": [
      "0    -0.006473\n",
      "1     3.993527\n",
      "2    -0.006473\n",
      "3    -1.006473\n",
      "4     0.993527\n",
      "        ...   \n",
      "72   -0.006473\n",
      "73   -0.006473\n",
      "74   -0.006473\n",
      "75   -0.006473\n",
      "76   -0.006473\n",
      "Name: fat, Length: 77, dtype: float64\n"
     ]
    }
   ],
   "source": [
    "data = cereal['fat']\n",
    "data_z_scores = (data - data.mean()/(data.std()))\n",
    "print ( data_z_scores, )"
   ]
  },
  {
   "cell_type": "markdown",
   "id": "d78744eb",
   "metadata": {},
   "source": [
    "Sodium"
   ]
  },
  {
   "cell_type": "code",
   "execution_count": 141,
   "id": "24d5783d",
   "metadata": {},
   "outputs": [
    {
     "name": "stdout",
     "output_type": "stream",
     "text": [
      "0     128.095301\n",
      "1      13.095301\n",
      "2     258.095301\n",
      "3     138.095301\n",
      "4     198.095301\n",
      "         ...    \n",
      "72    248.095301\n",
      "73    138.095301\n",
      "74    228.095301\n",
      "75    198.095301\n",
      "76    198.095301\n",
      "Name: sodium, Length: 77, dtype: float64\n"
     ]
    }
   ],
   "source": [
    "data = cereal['sodium']\n",
    "data_z_scores = (data - data.mean()/(data.std()))\n",
    "print ( data_z_scores, )"
   ]
  },
  {
   "cell_type": "markdown",
   "id": "c0cc471d",
   "metadata": {},
   "source": [
    "Fiber"
   ]
  },
  {
   "cell_type": "code",
   "execution_count": 142,
   "id": "c37bb0ce",
   "metadata": {},
   "outputs": [
    {
     "name": "stdout",
     "output_type": "stream",
     "text": [
      "0      9.097096\n",
      "1      1.097096\n",
      "2      8.097096\n",
      "3     13.097096\n",
      "4      0.097096\n",
      "        ...    \n",
      "72    -0.902904\n",
      "73    -0.902904\n",
      "74     2.097096\n",
      "75     2.097096\n",
      "76     0.097096\n",
      "Name: fiber, Length: 77, dtype: float64\n"
     ]
    }
   ],
   "source": [
    "data = cereal['fiber']\n",
    "data_z_scores = (data - data.mean()/(data.std()))\n",
    "print ( data_z_scores, )"
   ]
  },
  {
   "cell_type": "markdown",
   "id": "a1e64719",
   "metadata": {},
   "source": [
    "Carbohydrates"
   ]
  },
  {
   "cell_type": "code",
   "execution_count": 143,
   "id": "9552b855",
   "metadata": {},
   "outputs": [
    {
     "name": "stdout",
     "output_type": "stream",
     "text": [
      "0      1.58856\n",
      "1      4.58856\n",
      "2      3.58856\n",
      "3      4.58856\n",
      "4     10.58856\n",
      "        ...   \n",
      "72    17.58856\n",
      "73     9.58856\n",
      "74    13.58856\n",
      "75    13.58856\n",
      "76    12.58856\n",
      "Name: carbo, Length: 77, dtype: float64\n"
     ]
    }
   ],
   "source": [
    "data = cereal['carbo']\n",
    "data_z_scores = (data - data.mean()/(data.std()))\n",
    "print ( data_z_scores, )"
   ]
  },
  {
   "cell_type": "markdown",
   "id": "a0cf281d",
   "metadata": {},
   "source": [
    "Sugars"
   ]
  },
  {
   "cell_type": "code",
   "execution_count": 144,
   "id": "456e3401",
   "metadata": {},
   "outputs": [
    {
     "name": "stdout",
     "output_type": "stream",
     "text": [
      "0      4.442687\n",
      "1      6.442687\n",
      "2      3.442687\n",
      "3     -1.557313\n",
      "4      6.442687\n",
      "        ...    \n",
      "72     1.442687\n",
      "73    10.442687\n",
      "74     1.442687\n",
      "75     1.442687\n",
      "76     6.442687\n",
      "Name: sugars, Length: 77, dtype: float64\n"
     ]
    }
   ],
   "source": [
    "data = cereal['sugars']\n",
    "data_z_scores = (data - data.mean()/(data.std()))\n",
    "print ( data_z_scores, )"
   ]
  },
  {
   "cell_type": "markdown",
   "id": "e2c22f75",
   "metadata": {},
   "source": [
    "Potassium"
   ]
  },
  {
   "cell_type": "code",
   "execution_count": 145,
   "id": "78d7c61c",
   "metadata": {},
   "outputs": [
    {
     "name": "stdout",
     "output_type": "stream",
     "text": [
      "0     278.652234\n",
      "1     133.652234\n",
      "2     318.652234\n",
      "3     328.652234\n",
      "4      -2.347766\n",
      "         ...    \n",
      "72     58.652234\n",
      "73     23.652234\n",
      "74    113.652234\n",
      "75    108.652234\n",
      "76     58.652234\n",
      "Name: potass, Length: 77, dtype: float64\n"
     ]
    }
   ],
   "source": [
    "data = cereal['potass']\n",
    "data_z_scores = (data - data.mean()/(data.std()))\n",
    "print ( data_z_scores, )"
   ]
  },
  {
   "cell_type": "markdown",
   "id": "c88df360",
   "metadata": {},
   "source": [
    "Vitamins"
   ]
  },
  {
   "cell_type": "code",
   "execution_count": 146,
   "id": "127b5e98",
   "metadata": {},
   "outputs": [
    {
     "name": "stdout",
     "output_type": "stream",
     "text": [
      "0     23.73574\n",
      "1     -1.26426\n",
      "2     23.73574\n",
      "3     23.73574\n",
      "4     23.73574\n",
      "        ...   \n",
      "72    23.73574\n",
      "73    23.73574\n",
      "74    23.73574\n",
      "75    23.73574\n",
      "76    23.73574\n",
      "Name: vitamins, Length: 77, dtype: float64\n"
     ]
    }
   ],
   "source": [
    "data = cereal['vitamins']\n",
    "data_z_scores = (data - data.mean()/(data.std()))\n",
    "print ( data_z_scores, )"
   ]
  },
  {
   "cell_type": "markdown",
   "id": "9d5b1de5",
   "metadata": {},
   "source": [
    "Shelf"
   ]
  },
  {
   "cell_type": "code",
   "execution_count": 147,
   "id": "aa20afa2",
   "metadata": {},
   "outputs": [
    {
     "name": "stdout",
     "output_type": "stream",
     "text": [
      "0     0.348074\n",
      "1     0.348074\n",
      "2     0.348074\n",
      "3     0.348074\n",
      "4     0.348074\n",
      "        ...   \n",
      "72    0.348074\n",
      "73   -0.651926\n",
      "74   -1.651926\n",
      "75   -1.651926\n",
      "76   -1.651926\n",
      "Name: shelf, Length: 77, dtype: float64\n"
     ]
    }
   ],
   "source": [
    "data = cereal['shelf']\n",
    "data_z_scores = (data - data.mean()/(data.std()))\n",
    "print ( data_z_scores, )"
   ]
  },
  {
   "cell_type": "markdown",
   "id": "cf36123e",
   "metadata": {},
   "source": [
    "Weight"
   ]
  },
  {
   "cell_type": "code",
   "execution_count": 148,
   "id": "7b955826",
   "metadata": {},
   "outputs": [
    {
     "name": "stdout",
     "output_type": "stream",
     "text": [
      "0    -5.84232\n",
      "1    -5.84232\n",
      "2    -5.84232\n",
      "3    -5.84232\n",
      "4    -5.84232\n",
      "       ...   \n",
      "72   -5.84232\n",
      "73   -5.84232\n",
      "74   -5.84232\n",
      "75   -5.84232\n",
      "76   -5.84232\n",
      "Name: weight, Length: 77, dtype: float64\n"
     ]
    }
   ],
   "source": [
    "data = cereal['weight']\n",
    "data_z_scores = (data - data.mean()/(data.std()))\n",
    "print ( data_z_scores, )"
   ]
  },
  {
   "cell_type": "markdown",
   "id": "7db8f13d",
   "metadata": {},
   "source": [
    "Cups"
   ]
  },
  {
   "cell_type": "code",
   "execution_count": 149,
   "id": "b27d0959",
   "metadata": {},
   "outputs": [
    {
     "name": "stdout",
     "output_type": "stream",
     "text": [
      "0    -3.198071\n",
      "1    -2.528071\n",
      "2    -3.198071\n",
      "3    -3.028071\n",
      "4    -2.778071\n",
      "        ...   \n",
      "72   -2.778071\n",
      "73   -2.528071\n",
      "74   -2.858071\n",
      "75   -2.528071\n",
      "76   -2.778071\n",
      "Name: cups, Length: 77, dtype: float64\n"
     ]
    }
   ],
   "source": [
    "data = cereal['cups']\n",
    "data_z_scores = (data - data.mean()/(data.std()))\n",
    "print ( data_z_scores, )"
   ]
  },
  {
   "cell_type": "markdown",
   "id": "688c6234",
   "metadata": {},
   "source": [
    "Rating"
   ]
  },
  {
   "cell_type": "code",
   "execution_count": 150,
   "id": "3b51f13e",
   "metadata": {},
   "outputs": [
    {
     "name": "stdout",
     "output_type": "stream",
     "text": [
      "0     65.365682\n",
      "1     30.946388\n",
      "2     56.388214\n",
      "3     90.667621\n",
      "4     31.347552\n",
      "        ...    \n",
      "72    36.068883\n",
      "73    24.716010\n",
      "74    46.750154\n",
      "75    48.554902\n",
      "76    33.150268\n",
      "Name: rating, Length: 77, dtype: float64\n"
     ]
    }
   ],
   "source": [
    "data = cereal['rating']\n",
    "data_z_scores = (data - data.mean()/(data.std()))\n",
    "print ( data_z_scores, )"
   ]
  },
  {
   "cell_type": "markdown",
   "id": "bc24a484",
   "metadata": {},
   "source": [
    "### Skewness "
   ]
  },
  {
   "cell_type": "code",
   "execution_count": 151,
   "id": "c4439baf",
   "metadata": {},
   "outputs": [
    {
     "data": {
      "text/plain": [
       "calories   -0.445407\n",
       "protein     0.745830\n",
       "fat         1.165989\n",
       "sodium     -0.575711\n",
       "fiber       2.431675\n",
       "carbo      -0.447929\n",
       "sugars      0.034618\n",
       "potass      1.350971\n",
       "vitamins    2.463704\n",
       "shelf      -0.410339\n",
       "weight      0.309857\n",
       "cups       -0.104981\n",
       "rating      0.910240\n",
       "dtype: float64"
      ]
     },
     "execution_count": 151,
     "metadata": {},
     "output_type": "execute_result"
    }
   ],
   "source": [
    "cereal.skew(numeric_only=True)"
   ]
  },
  {
   "cell_type": "markdown",
   "id": "f145c097",
   "metadata": {},
   "source": [
    "# Additional Disriptive Statistic\n",
    "Harmonic Mean\n",
    "1. Calories"
   ]
  },
  {
   "cell_type": "code",
   "execution_count": 152,
   "id": "e99beac8",
   "metadata": {},
   "outputs": [
    {
     "name": "stdout",
     "output_type": "stream",
     "text": [
      "102.36429299104826\n"
     ]
    }
   ],
   "source": [
    "data = cereal['calories']\n",
    "hmean = len(data) / sum(1 / item for item in data)\n",
    "print(hmean)"
   ]
  },
  {
   "cell_type": "markdown",
   "id": "5e5ef823",
   "metadata": {},
   "source": [
    "2. Protein"
   ]
  },
  {
   "cell_type": "code",
   "execution_count": 153,
   "id": "9e89367a",
   "metadata": {},
   "outputs": [
    {
     "name": "stdout",
     "output_type": "stream",
     "text": [
      "2.0606601248884924\n"
     ]
    }
   ],
   "source": [
    "data = cereal['protein']\n",
    "hmean = len(data) / sum(1 / i for i in data)\n",
    "print(hmean)"
   ]
  },
  {
   "cell_type": "markdown",
   "id": "5e9685cf",
   "metadata": {},
   "source": [
    "3. Fat"
   ]
  },
  {
   "cell_type": "code",
   "execution_count": 154,
   "id": "debe1734",
   "metadata": {},
   "outputs": [
    {
     "name": "stdout",
     "output_type": "stream",
     "text": [
      "1.9811320754716981\n"
     ]
    }
   ],
   "source": [
    "data = cereal['fat']\n",
    "hmean = len(data) / sum(1 / i for i in data if i !=0)\n",
    "print(hmean)"
   ]
  },
  {
   "cell_type": "markdown",
   "id": "f02a95e6",
   "metadata": {},
   "source": [
    "4. Sodium"
   ]
  },
  {
   "cell_type": "code",
   "execution_count": 155,
   "id": "21fc5e80",
   "metadata": {},
   "outputs": [
    {
     "name": "stdout",
     "output_type": "stream",
     "text": [
      "142.5511370182793\n"
     ]
    }
   ],
   "source": [
    "data = cereal['sodium']\n",
    "hmean = len(data) / sum(1 / i for i in data if i !=0)\n",
    "print(hmean)"
   ]
  },
  {
   "cell_type": "markdown",
   "id": "b35bbe54",
   "metadata": {},
   "source": [
    "5. Fiber"
   ]
  },
  {
   "cell_type": "code",
   "execution_count": 156,
   "id": "728f245b",
   "metadata": {},
   "outputs": [
    {
     "name": "stdout",
     "output_type": "stream",
     "text": [
      "2.4823033755778066\n"
     ]
    }
   ],
   "source": [
    "data = cereal['fiber']\n",
    "hmean = len(data) / sum(1 / i for i in data if i !=0)\n",
    "print(hmean)"
   ]
  },
  {
   "cell_type": "markdown",
   "id": "8cccf843",
   "metadata": {},
   "source": [
    "6. Carbohydrates"
   ]
  },
  {
   "cell_type": "code",
   "execution_count": 157,
   "id": "200664af",
   "metadata": {},
   "outputs": [
    {
     "name": "stdout",
     "output_type": "stream",
     "text": [
      "0.17954830330779534\n"
     ]
    }
   ],
   "source": [
    "data = cereal['carbo']\n",
    "hmean = len(data) / sum(1 / i for i in data if i !=0 or i for i in data if i !=-1)\n",
    "print(hmean)"
   ]
  },
  {
   "cell_type": "markdown",
   "id": "c7e15c05",
   "metadata": {},
   "source": [
    "7. Sugars"
   ]
  },
  {
   "cell_type": "code",
   "execution_count": 158,
   "id": "53892b33",
   "metadata": {},
   "outputs": [
    {
     "name": "stdout",
     "output_type": "stream",
     "text": [
      "5.88502203512088\n"
     ]
    }
   ],
   "source": [
    "data = cereal['sugars']\n",
    "hmean = len(data) / sum(1 / i for i in data if i !=0 and i != -1)\n",
    "print(hmean)"
   ]
  },
  {
   "cell_type": "markdown",
   "id": "f3936b63",
   "metadata": {},
   "source": [
    "8. Potassium"
   ]
  },
  {
   "cell_type": "code",
   "execution_count": 159,
   "id": "438c8d18",
   "metadata": {},
   "outputs": [
    {
     "name": "stdout",
     "output_type": "stream",
     "text": [
      "-102.03391848917288\n"
     ]
    }
   ],
   "source": [
    "data = cereal['potass']\n",
    "hmean = len(data) / sum(1 / i for i in data if i !=0)\n",
    "print(hmean)"
   ]
  },
  {
   "cell_type": "markdown",
   "id": "1487627d",
   "metadata": {},
   "source": [
    "9. Vitamins"
   ]
  },
  {
   "cell_type": "code",
   "execution_count": 160,
   "id": "914f6b96",
   "metadata": {},
   "outputs": [
    {
     "name": "stdout",
     "output_type": "stream",
     "text": [
      "29.844961240310067\n"
     ]
    }
   ],
   "source": [
    "data = cereal['vitamins']\n",
    "hmean = len(data) / sum(1 / i for i in data if i !=0)\n",
    "print(hmean)"
   ]
  },
  {
   "cell_type": "markdown",
   "id": "d2296ad5",
   "metadata": {},
   "source": [
    "10. Shelf"
   ]
  },
  {
   "cell_type": "code",
   "execution_count": 161,
   "id": "c8b07678",
   "metadata": {},
   "outputs": [
    {
     "name": "stdout",
     "output_type": "stream",
     "text": [
      "1.8117647058823532\n"
     ]
    }
   ],
   "source": [
    "data = cereal['shelf']\n",
    "hmean = len(data) / sum(1 / i for i in data if i !=0)\n",
    "print(hmean)"
   ]
  },
  {
   "cell_type": "markdown",
   "id": "3454675a",
   "metadata": {},
   "source": [
    "11. Weight"
   ]
  },
  {
   "cell_type": "code",
   "execution_count": 162,
   "id": "52c4383b",
   "metadata": {},
   "outputs": [
    {
     "name": "stdout",
     "output_type": "stream",
     "text": [
      "1.0043463168263171\n"
     ]
    }
   ],
   "source": [
    "data = cereal['weight']\n",
    "hmean = len(data) / sum(1 / i for i in data if i !=0)\n",
    "print(hmean)"
   ]
  },
  {
   "cell_type": "markdown",
   "id": "8670bb72",
   "metadata": {},
   "source": [
    "12. Cups"
   ]
  },
  {
   "cell_type": "code",
   "execution_count": 163,
   "id": "37f66934",
   "metadata": {},
   "outputs": [
    {
     "name": "stdout",
     "output_type": "stream",
     "text": [
      "0.7371704325812062\n"
     ]
    }
   ],
   "source": [
    "data = cereal['cups']\n",
    "hmean = len(data) / sum(1 / i for i in data if i !=0)\n",
    "print(hmean)"
   ]
  },
  {
   "cell_type": "markdown",
   "id": "b01748f3",
   "metadata": {},
   "source": [
    "13. Rating"
   ]
  },
  {
   "cell_type": "code",
   "execution_count": 164,
   "id": "5c62365f",
   "metadata": {},
   "outputs": [
    {
     "name": "stdout",
     "output_type": "stream",
     "text": [
      "38.448310718882404\n"
     ]
    }
   ],
   "source": [
    "data = cereal['rating']\n",
    "hmean = len(data) / sum(1 / i for i in data if i !=0)\n",
    "print(hmean)"
   ]
  },
  {
   "cell_type": "markdown",
   "id": "54d66142",
   "metadata": {},
   "source": [
    "# Graphs"
   ]
  },
  {
   "cell_type": "code",
   "execution_count": 165,
   "id": "42be0e61",
   "metadata": {},
   "outputs": [],
   "source": [
    "import matplotlib.pyplot as plt\n",
    "import seaborn as sea"
   ]
  },
  {
   "cell_type": "markdown",
   "id": "32384d06",
   "metadata": {},
   "source": [
    "### Box Plots\n",
    "1. Calories"
   ]
  },
  {
   "cell_type": "code",
   "execution_count": 166,
   "id": "f4e43601",
   "metadata": {},
   "outputs": [
    {
     "data": {
      "text/plain": [
       "{'whiskers': [<matplotlib.lines.Line2D at 0x262589eb550>,\n",
       "  <matplotlib.lines.Line2D at 0x262589f4310>],\n",
       " 'caps': [<matplotlib.lines.Line2D at 0x262589d9990>,\n",
       "  <matplotlib.lines.Line2D at 0x262589f5dd0>],\n",
       " 'boxes': [<matplotlib.lines.Line2D at 0x262589c6210>],\n",
       " 'medians': [<matplotlib.lines.Line2D at 0x262589f6a10>],\n",
       " 'fliers': [<matplotlib.lines.Line2D at 0x262589f7450>],\n",
       " 'means': []}"
      ]
     },
     "execution_count": 166,
     "metadata": {},
     "output_type": "execute_result"
    },
    {
     "data": {
      "image/png": "[encoded data removed]",
      "text/plain": [
       "<Figure size 640x480 with 1 Axes>"
      ]
     },
     "metadata": {},
     "output_type": "display_data"
    }
   ],
   "source": [
    "plt.boxplot(cereal['calories'])"
   ]
  },
  {
   "cell_type": "markdown",
   "id": "805df6d7",
   "metadata": {},
   "source": [
    "2. Protein"
   ]
  },
  {
   "cell_type": "code",
   "execution_count": 167,
   "id": "bfab7985",
   "metadata": {},
   "outputs": [
    {
     "data": {
      "text/plain": [
       "{'whiskers': [<matplotlib.lines.Line2D at 0x26258a95e90>,\n",
       "  <matplotlib.lines.Line2D at 0x26258a96a90>],\n",
       " 'caps': [<matplotlib.lines.Line2D at 0x26258a97410>,\n",
       "  <matplotlib.lines.Line2D at 0x26258a97f50>],\n",
       " 'boxes': [<matplotlib.lines.Line2D at 0x26258a84f10>],\n",
       " 'medians': [<matplotlib.lines.Line2D at 0x26258aa4b50>],\n",
       " 'fliers': [<matplotlib.lines.Line2D at 0x26258a07090>],\n",
       " 'means': []}"
      ]
     },
     "execution_count": 167,
     "metadata": {},
     "output_type": "execute_result"
    },
    {
     "data": {
      "image/png": "[encoded data removed]",
      "text/plain": [
       "<Figure size 640x480 with 1 Axes>"
      ]
     },
     "metadata": {},
     "output_type": "display_data"
    }
   ],
   "source": [
    "plt.boxplot(cereal['protein'])"
   ]
  },
  {
   "cell_type": "markdown",
   "id": "acbc723b",
   "metadata": {},
   "source": [
    "3. Fat"
   ]
  },
  {
   "cell_type": "code",
   "execution_count": 168,
   "id": "0e866201",
   "metadata": {},
   "outputs": [
    {
     "data": {
      "text/plain": [
       "{'whiskers': [<matplotlib.lines.Line2D at 0x26258a3f8d0>,\n",
       "  <matplotlib.lines.Line2D at 0x26258af4610>],\n",
       " 'caps': [<matplotlib.lines.Line2D at 0x26258af51d0>,\n",
       "  <matplotlib.lines.Line2D at 0x26258af5d10>],\n",
       " 'boxes': [<matplotlib.lines.Line2D at 0x26258ae6c50>],\n",
       " 'medians': [<matplotlib.lines.Line2D at 0x26258af6790>],\n",
       " 'fliers': [<matplotlib.lines.Line2D at 0x26258843dd0>],\n",
       " 'means': []}"
      ]
     },
     "execution_count": 168,
     "metadata": {},
     "output_type": "execute_result"
    },
    {
     "data": {
      "image/png": "[encoded data removed]",
      "text/plain": [
       "<Figure size 640x480 with 1 Axes>"
      ]
     },
     "metadata": {},
     "output_type": "display_data"
    }
   ],
   "source": [
    "plt.boxplot(cereal['fat'])"
   ]
  },
  {
   "cell_type": "markdown",
   "id": "e058258d",
   "metadata": {},
   "source": [
    "4. Sodium"
   ]
  },
  {
   "cell_type": "code",
   "execution_count": 169,
   "id": "c72bf119",
   "metadata": {},
   "outputs": [
    {
     "data": {
      "text/plain": [
       "{'whiskers': [<matplotlib.lines.Line2D at 0x26258b58790>,\n",
       "  <matplotlib.lines.Line2D at 0x26258b59350>],\n",
       " 'caps': [<matplotlib.lines.Line2D at 0x26258b59f90>,\n",
       "  <matplotlib.lines.Line2D at 0x26258b5a950>],\n",
       " 'boxes': [<matplotlib.lines.Line2D at 0x26258b4fb50>],\n",
       " 'medians': [<matplotlib.lines.Line2D at 0x26258b5b4d0>],\n",
       " 'fliers': [<matplotlib.lines.Line2D at 0x26258b4f2d0>],\n",
       " 'means': []}"
      ]
     },
     "execution_count": 169,
     "metadata": {},
     "output_type": "execute_result"
    },
    {
     "data": {
      "image/png": "[encoded data removed]",
      "text/plain": [
       "<Figure size 640x480 with 1 Axes>"
      ]
     },
     "metadata": {},
     "output_type": "display_data"
    }
   ],
   "source": [
    "plt.boxplot(cereal['sodium'])"
   ]
  },
  {
   "cell_type": "markdown",
   "id": "a8362162",
   "metadata": {},
   "source": [
    "5. Fiber"
   ]
  },
  {
   "cell_type": "code",
   "execution_count": 170,
   "id": "d4734834",
   "metadata": {},
   "outputs": [
    {
     "data": {
      "text/plain": [
       "{'whiskers': [<matplotlib.lines.Line2D at 0x2625abfea90>,\n",
       "  <matplotlib.lines.Line2D at 0x2625abff610>],\n",
       " 'caps': [<matplotlib.lines.Line2D at 0x2625ac0c190>,\n",
       "  <matplotlib.lines.Line2D at 0x2625ac0cc50>],\n",
       " 'boxes': [<matplotlib.lines.Line2D at 0x2625abfdf10>],\n",
       " 'medians': [<matplotlib.lines.Line2D at 0x2625ac0d790>],\n",
       " 'fliers': [<matplotlib.lines.Line2D at 0x26258a00490>],\n",
       " 'means': []}"
      ]
     },
     "execution_count": 170,
     "metadata": {},
     "output_type": "execute_result"
    },
    {
     "data": {
      "image/png": "[encoded data removed]",
      "text/plain": [
       "<Figure size 640x480 with 1 Axes>"
      ]
     },
     "metadata": {},
     "output_type": "display_data"
    }
   ],
   "source": [
    "plt.boxplot(cereal['fiber'])"
   ]
  },
  {
   "cell_type": "markdown",
   "id": "b658e03d",
   "metadata": {},
   "source": [
    "6. Carbohydrates"
   ]
  },
  {
   "cell_type": "code",
   "execution_count": 171,
   "id": "7c885b52",
   "metadata": {},
   "outputs": [
    {
     "data": {
      "text/plain": [
       "{'whiskers': [<matplotlib.lines.Line2D at 0x2625ac75b90>,\n",
       "  <matplotlib.lines.Line2D at 0x2625ac76790>],\n",
       " 'caps': [<matplotlib.lines.Line2D at 0x2625ac77290>,\n",
       "  <matplotlib.lines.Line2D at 0x2625ac77dd0>],\n",
       " 'boxes': [<matplotlib.lines.Line2D at 0x2625ac32010>],\n",
       " 'medians': [<matplotlib.lines.Line2D at 0x2625ac807d0>],\n",
       " 'fliers': [<matplotlib.lines.Line2D at 0x26258af61d0>],\n",
       " 'means': []}"
      ]
     },
     "execution_count": 171,
     "metadata": {},
     "output_type": "execute_result"
    },
    {
     "data": {
      "image/png": "[encoded data removed]",
      "text/plain": [
       "<Figure size 640x480 with 1 Axes>"
      ]
     },
     "metadata": {},
     "output_type": "display_data"
    }
   ],
   "source": [
    "plt.boxplot(cereal['carbo'])"
   ]
  },
  {
   "cell_type": "markdown",
   "id": "bc64632e",
   "metadata": {},
   "source": [
    "7. Sugars"
   ]
  },
  {
   "cell_type": "code",
   "execution_count": 172,
   "id": "d791d0c8",
   "metadata": {},
   "outputs": [
    {
     "data": {
      "text/plain": [
       "{'whiskers': [<matplotlib.lines.Line2D at 0x2625ae06c90>,\n",
       "  <matplotlib.lines.Line2D at 0x2625ae1c090>],\n",
       " 'caps': [<matplotlib.lines.Line2D at 0x2625ae1cb50>,\n",
       "  <matplotlib.lines.Line2D at 0x2625ae1d510>],\n",
       " 'boxes': [<matplotlib.lines.Line2D at 0x2625ae12f10>],\n",
       " 'medians': [<matplotlib.lines.Line2D at 0x2625ae1e050>],\n",
       " 'fliers': [<matplotlib.lines.Line2D at 0x2625abbea10>],\n",
       " 'means': []}"
      ]
     },
     "execution_count": 172,
     "metadata": {},
     "output_type": "execute_result"
    },
    {
     "data": {
      "image/png": "[encoded data removed]",
      "text/plain": [
       "<Figure size 640x480 with 1 Axes>"
      ]
     },
     "metadata": {},
     "output_type": "display_data"
    }
   ],
   "source": [
    "plt.boxplot(cereal['sugars'])"
   ]
  },
  {
   "cell_type": "markdown",
   "id": "ac065c0a",
   "metadata": {},
   "source": [
    "8. Potassium"
   ]
  },
  {
   "cell_type": "code",
   "execution_count": 173,
   "id": "98178a34",
   "metadata": {},
   "outputs": [
    {
     "data": {
      "text/plain": [
       "{'whiskers': [<matplotlib.lines.Line2D at 0x2625ae8a0d0>,\n",
       "  <matplotlib.lines.Line2D at 0x2625ae8ad10>],\n",
       " 'caps': [<matplotlib.lines.Line2D at 0x2625ae8b850>,\n",
       "  <matplotlib.lines.Line2D at 0x2625ae90310>],\n",
       " 'boxes': [<matplotlib.lines.Line2D at 0x2625ae894d0>],\n",
       " 'medians': [<matplotlib.lines.Line2D at 0x2625ae90e10>],\n",
       " 'fliers': [<matplotlib.lines.Line2D at 0x2625ae91810>],\n",
       " 'means': []}"
      ]
     },
     "execution_count": 173,
     "metadata": {},
     "output_type": "execute_result"
    },
    {
     "data": {
      "image/png": "[encoded data removed]",
      "text/plain": [
       "<Figure size 640x480 with 1 Axes>"
      ]
     },
     "metadata": {},
     "output_type": "display_data"
    }
   ],
   "source": [
    "plt.boxplot(cereal['potass'])"
   ]
  },
  {
   "cell_type": "markdown",
   "id": "6535c492",
   "metadata": {},
   "source": [
    "9. Vitamins"
   ]
  },
  {
   "cell_type": "code",
   "execution_count": 174,
   "id": "e145f394",
   "metadata": {},
   "outputs": [
    {
     "data": {
      "text/plain": [
       "{'whiskers': [<matplotlib.lines.Line2D at 0x2625acb38d0>,\n",
       "  <matplotlib.lines.Line2D at 0x2625acbc590>],\n",
       " 'caps': [<matplotlib.lines.Line2D at 0x2625acbd110>,\n",
       "  <matplotlib.lines.Line2D at 0x2625acbdad0>],\n",
       " 'boxes': [<matplotlib.lines.Line2D at 0x2625acb2c10>],\n",
       " 'medians': [<matplotlib.lines.Line2D at 0x2625acbe690>],\n",
       " 'fliers': [<matplotlib.lines.Line2D at 0x2625ac9f0d0>],\n",
       " 'means': []}"
      ]
     },
     "execution_count": 174,
     "metadata": {},
     "output_type": "execute_result"
    },
    {
     "data": {
      "image/png": "[encoded data removed]",
      "text/plain": [
       "<Figure size 640x480 with 1 Axes>"
      ]
     },
     "metadata": {},
     "output_type": "display_data"
    }
   ],
   "source": [
    "plt.boxplot(cereal['vitamins'])"
   ]
  },
  {
   "cell_type": "markdown",
   "id": "00dd9c95",
   "metadata": {},
   "source": [
    "10. Shelf"
   ]
  },
  {
   "cell_type": "code",
   "execution_count": 175,
   "id": "c998a607",
   "metadata": {},
   "outputs": [
    {
     "data": {
      "text/plain": [
       "{'whiskers': [<matplotlib.lines.Line2D at 0x2625ad12990>,\n",
       "  <matplotlib.lines.Line2D at 0x2625ad13650>],\n",
       " 'caps': [<matplotlib.lines.Line2D at 0x2625ad1c150>,\n",
       "  <matplotlib.lines.Line2D at 0x2625ad1cc10>],\n",
       " 'boxes': [<matplotlib.lines.Line2D at 0x2625ad11d90>],\n",
       " 'medians': [<matplotlib.lines.Line2D at 0x2625ad1d690>],\n",
       " 'fliers': [<matplotlib.lines.Line2D at 0x2625ad1e150>],\n",
       " 'means': []}"
      ]
     },
     "execution_count": 175,
     "metadata": {},
     "output_type": "execute_result"
    },
    {
     "data": {
      "image/png": "[encoded data removed]",
      "text/plain": [
       "<Figure size 640x480 with 1 Axes>"
      ]
     },
     "metadata": {},
     "output_type": "display_data"
    }
   ],
   "source": [
    "plt.boxplot(cereal['shelf'])"
   ]
  },
  {
   "cell_type": "markdown",
   "id": "0466e31a",
   "metadata": {},
   "source": [
    "11. Weight"
   ]
  },
  {
   "cell_type": "code",
   "execution_count": 176,
   "id": "89b3862c",
   "metadata": {},
   "outputs": [
    {
     "data": {
      "text/plain": [
       "{'whiskers': [<matplotlib.lines.Line2D at 0x2625ad8b4d0>,\n",
       "  <matplotlib.lines.Line2D at 0x2625ad94050>],\n",
       " 'caps': [<matplotlib.lines.Line2D at 0x2625ad94a90>,\n",
       "  <matplotlib.lines.Line2D at 0x2625ad95590>],\n",
       " 'boxes': [<matplotlib.lines.Line2D at 0x2625ad8a850>],\n",
       " 'medians': [<matplotlib.lines.Line2D at 0x2625ad96050>],\n",
       " 'fliers': [<matplotlib.lines.Line2D at 0x2625ad4ea10>],\n",
       " 'means': []}"
      ]
     },
     "execution_count": 176,
     "metadata": {},
     "output_type": "execute_result"
    },
    {
     "data": {
      "image/png": "[encoded data removed]",
      "text/plain": [
       "<Figure size 640x480 with 1 Axes>"
      ]
     },
     "metadata": {},
     "output_type": "display_data"
    }
   ],
   "source": [
    "plt.boxplot(cereal['weight'])"
   ]
  },
  {
   "cell_type": "markdown",
   "id": "1b697301",
   "metadata": {},
   "source": [
    "12. Cups"
   ]
  },
  {
   "cell_type": "code",
   "execution_count": 177,
   "id": "f786b058",
   "metadata": {},
   "outputs": [
    {
     "data": {
      "text/plain": [
       "{'whiskers': [<matplotlib.lines.Line2D at 0x2625af34310>,\n",
       "  <matplotlib.lines.Line2D at 0x2625af34f10>],\n",
       " 'caps': [<matplotlib.lines.Line2D at 0x2625af35a50>,\n",
       "  <matplotlib.lines.Line2D at 0x2625af365d0>],\n",
       " 'boxes': [<matplotlib.lines.Line2D at 0x2625af23610>],\n",
       " 'medians': [<matplotlib.lines.Line2D at 0x2625af37050>],\n",
       " 'fliers': [<matplotlib.lines.Line2D at 0x2625acd7a90>],\n",
       " 'means': []}"
      ]
     },
     "execution_count": 177,
     "metadata": {},
     "output_type": "execute_result"
    },
    {
     "data": {
      "image/png": "[encoded data removed]",
      "text/plain": [
       "<Figure size 640x480 with 1 Axes>"
      ]
     },
     "metadata": {},
     "output_type": "display_data"
    }
   ],
   "source": [
    "plt.boxplot(cereal['cups'])"
   ]
  },
  {
   "cell_type": "markdown",
   "id": "6901853d",
   "metadata": {},
   "source": [
    "13. Rating"
   ]
  },
  {
   "cell_type": "code",
   "execution_count": 178,
   "id": "cf03c9ec",
   "metadata": {},
   "outputs": [
    {
     "data": {
      "text/plain": [
       "{'whiskers': [<matplotlib.lines.Line2D at 0x2625af99510>,\n",
       "  <matplotlib.lines.Line2D at 0x2625af9a050>],\n",
       " 'caps': [<matplotlib.lines.Line2D at 0x2625af9acd0>,\n",
       "  <matplotlib.lines.Line2D at 0x2625af9b650>],\n",
       " 'boxes': [<matplotlib.lines.Line2D at 0x2625af98910>],\n",
       " 'medians': [<matplotlib.lines.Line2D at 0x2625afac210>],\n",
       " 'fliers': [<matplotlib.lines.Line2D at 0x2625acf4c50>],\n",
       " 'means': []}"
      ]
     },
     "execution_count": 178,
     "metadata": {},
     "output_type": "execute_result"
    },
    {
     "data": {
      "image/png": "[encoded data removed]",
      "text/plain": [
       "<Figure size 640x480 with 1 Axes>"
      ]
     },
     "metadata": {},
     "output_type": "display_data"
    }
   ],
   "source": [
    "plt.boxplot(cereal['rating'])"
   ]
  },
  {
   "cell_type": "markdown",
   "id": "c6e9cca4",
   "metadata": {},
   "source": [
    "### Scatter Plots\n",
    "1. Calories v Protiens"
   ]
  },
  {
   "cell_type": "code",
   "execution_count": 179,
   "id": "76e28b6d",
   "metadata": {},
   "outputs": [
    {
     "data": {
      "text/plain": [
       "<matplotlib.collections.PathCollection at 0x26258a1a090>"
      ]
     },
     "execution_count": 179,
     "metadata": {},
     "output_type": "execute_result"
    },
    {
     "data": {
      "image/png": "[encoded data removed]",
      "text/plain": [
       "<Figure size 640x480 with 1 Axes>"
      ]
     },
     "metadata": {},
     "output_type": "display_data"
    }
   ],
   "source": [
    "plt.scatter(cereal['calories'], cereal['protein'])"
   ]
  },
  {
   "cell_type": "markdown",
   "id": "f6147454",
   "metadata": {},
   "source": [
    "2. Calories v Fat"
   ]
  },
  {
   "cell_type": "code",
   "execution_count": 180,
   "id": "eb699823",
   "metadata": {},
   "outputs": [
    {
     "data": {
      "text/plain": [
       "<matplotlib.collections.PathCollection at 0x26258b2c1d0>"
      ]
     },
     "execution_count": 180,
     "metadata": {},
     "output_type": "execute_result"
    },
    {
     "data": {
      "image/png": "[encoded data removed]",
      "text/plain": [
       "<Figure size 640x480 with 1 Axes>"
      ]
     },
     "metadata": {},
     "output_type": "display_data"
    }
   ],
   "source": [
    "plt.scatter(cereal['calories'], cereal['fat'])"
   ]
  },
  {
   "cell_type": "markdown",
   "id": "f2a45e71",
   "metadata": {},
   "source": [
    "3. Calories v Sodium"
   ]
  },
  {
   "cell_type": "code",
   "execution_count": 181,
   "id": "20f6e897",
   "metadata": {},
   "outputs": [
    {
     "data": {
      "text/plain": [
       "<matplotlib.collections.PathCollection at 0x2625c0fd750>"
      ]
     },
     "execution_count": 181,
     "metadata": {},
     "output_type": "execute_result"
    },
    {
     "data": {
      "image/png": "[encoded data removed]",
      "text/plain": [
       "<Figure size 640x480 with 1 Axes>"
      ]
     },
     "metadata": {},
     "output_type": "display_data"
    }
   ],
   "source": [
    "plt.scatter(cereal['calories'], cereal['sodium'])"
   ]
  },
  {
   "cell_type": "markdown",
   "id": "399ad800",
   "metadata": {},
   "source": [
    "4. Calories v Fiber"
   ]
  },
  {
   "cell_type": "code",
   "execution_count": 182,
   "id": "ee5eb800",
   "metadata": {},
   "outputs": [
    {
     "data": {
      "text/plain": [
       "<matplotlib.collections.PathCollection at 0x2625c0e3c90>"
      ]
     },
     "execution_count": 182,
     "metadata": {},
     "output_type": "execute_result"
    },
    {
     "data": {
      "image/png": "[encoded data removed]",
      "text/plain": [
       "<Figure size 640x480 with 1 Axes>"
      ]
     },
     "metadata": {},
     "output_type": "display_data"
    }
   ],
   "source": [
    "plt.scatter(cereal['calories'], cereal['fiber'])"
   ]
  },
  {
   "cell_type": "markdown",
   "id": "404cd1c3",
   "metadata": {},
   "source": [
    "5. Calories v Carbohydrates"
   ]
  },
  {
   "cell_type": "code",
   "execution_count": 183,
   "id": "63a1ca17",
   "metadata": {},
   "outputs": [
    {
     "data": {
      "text/plain": [
       "<matplotlib.collections.PathCollection at 0x2625c1a8590>"
      ]
     },
     "execution_count": 183,
     "metadata": {},
     "output_type": "execute_result"
    },
    {
     "data": {
      "image/png": "[encoded data removed]",
      "text/plain": [
       "<Figure size 640x480 with 1 Axes>"
      ]
     },
     "metadata": {},
     "output_type": "display_data"
    }
   ],
   "source": [
    "plt.scatter(cereal['calories'], cereal['carbo'])"
   ]
  },
  {
   "cell_type": "markdown",
   "id": "30401c05",
   "metadata": {},
   "source": [
    "6. Calories v Sugars"
   ]
  },
  {
   "cell_type": "code",
   "execution_count": 184,
   "id": "9c4214a4",
   "metadata": {},
   "outputs": [
    {
     "data": {
      "text/plain": [
       "<matplotlib.collections.PathCollection at 0x2625c1a9ed0>"
      ]
     },
     "execution_count": 184,
     "metadata": {},
     "output_type": "execute_result"
    },
    {
     "data": {
      "image/png": "[encoded data removed]",
      "text/plain": [
       "<Figure size 640x480 with 1 Axes>"
      ]
     },
     "metadata": {},
     "output_type": "display_data"
    }
   ],
   "source": [
    "plt.scatter(cereal['calories'], cereal['sugars'])"
   ]
  },
  {
   "cell_type": "markdown",
   "id": "3fa40693",
   "metadata": {},
   "source": [
    "7. Calories v Potassium"
   ]
  },
  {
   "cell_type": "code",
   "execution_count": 185,
   "id": "baa90eeb",
   "metadata": {},
   "outputs": [
    {
     "data": {
      "text/plain": [
       "<matplotlib.collections.PathCollection at 0x2625c3f2b90>"
      ]
     },
     "execution_count": 185,
     "metadata": {},
     "output_type": "execute_result"
    },
    {
     "data": {
      "image/png": "[encoded data removed]",
      "text/plain": [
       "<Figure size 640x480 with 1 Axes>"
      ]
     },
     "metadata": {},
     "output_type": "display_data"
    }
   ],
   "source": [
    "plt.scatter(cereal['calories'], cereal['potass'])"
   ]
  },
  {
   "cell_type": "markdown",
   "id": "ff6e0b17",
   "metadata": {},
   "source": [
    "8. Calories v Vitamins"
   ]
  },
  {
   "cell_type": "code",
   "execution_count": 186,
   "id": "d163d6f7",
   "metadata": {},
   "outputs": [
    {
     "data": {
      "text/plain": [
       "<matplotlib.collections.PathCollection at 0x2625c466350>"
      ]
     },
     "execution_count": 186,
     "metadata": {},
     "output_type": "execute_result"
    },
    {
     "data": {
      "image/png": "[encoded data removed]",
      "text/plain": [
       "<Figure size 640x480 with 1 Axes>"
      ]
     },
     "metadata": {},
     "output_type": "display_data"
    }
   ],
   "source": [
    "plt.scatter(cereal['calories'], cereal['vitamins'])"
   ]
  },
  {
   "cell_type": "markdown",
   "id": "b4666f0e",
   "metadata": {},
   "source": [
    "9. Calories v Shelf"
   ]
  },
  {
   "cell_type": "code",
   "execution_count": 187,
   "id": "d4d79822",
   "metadata": {},
   "outputs": [
    {
     "data": {
      "text/plain": [
       "<matplotlib.collections.PathCollection at 0x2625c4d7050>"
      ]
     },
     "execution_count": 187,
     "metadata": {},
     "output_type": "execute_result"
    },
    {
     "data": {
      "image/png": "[encoded data removed]",
      "text/plain": [
       "<Figure size 640x480 with 1 Axes>"
      ]
     },
     "metadata": {},
     "output_type": "display_data"
    }
   ],
   "source": [
    "plt.scatter(cereal['calories'], cereal['shelf'])"
   ]
  },
  {
   "cell_type": "markdown",
   "id": "21dfacfd",
   "metadata": {},
   "source": [
    "10. Calories v Weight"
   ]
  },
  {
   "cell_type": "code",
   "execution_count": 188,
   "id": "5b7727ca",
   "metadata": {},
   "outputs": [
    {
     "data": {
      "text/plain": [
       "<matplotlib.collections.PathCollection at 0x2625c21a9d0>"
      ]
     },
     "execution_count": 188,
     "metadata": {},
     "output_type": "execute_result"
    },
    {
     "data": {
      "image/png": "[encoded data removed]",
      "text/plain": [
       "<Figure size 640x480 with 1 Axes>"
      ]
     },
     "metadata": {},
     "output_type": "display_data"
    }
   ],
   "source": [
    "plt.scatter(cereal['calories'], cereal['weight'])"
   ]
  },
  {
   "cell_type": "markdown",
   "id": "fbd7f1c4",
   "metadata": {},
   "source": [
    "11. Calories v Cups"
   ]
  },
  {
   "cell_type": "code",
   "execution_count": 189,
   "id": "a614cbbf",
   "metadata": {},
   "outputs": [
    {
     "data": {
      "text/plain": [
       "<matplotlib.collections.PathCollection at 0x2625c4a1b50>"
      ]
     },
     "execution_count": 189,
     "metadata": {},
     "output_type": "execute_result"
    },
    {
     "data": {
      "image/png": "[encoded data removed]",
      "text/plain": [
       "<Figure size 640x480 with 1 Axes>"
      ]
     },
     "metadata": {},
     "output_type": "display_data"
    }
   ],
   "source": [
    "plt.scatter(cereal['calories'], cereal['cups'])"
   ]
  },
  {
   "cell_type": "markdown",
   "id": "8d11dd96",
   "metadata": {},
   "source": [
    "12. Calories v Rating"
   ]
  },
  {
   "cell_type": "code",
   "execution_count": 190,
   "id": "264aeebe",
   "metadata": {},
   "outputs": [
    {
     "data": {
      "text/plain": [
       "<matplotlib.collections.PathCollection at 0x2625c53c890>"
      ]
     },
     "execution_count": 190,
     "metadata": {},
     "output_type": "execute_result"
    },
    {
     "data": {
      "image/png": "[encoded data removed]",
      "text/plain": [
       "<Figure size 640x480 with 1 Axes>"
      ]
     },
     "metadata": {},
     "output_type": "display_data"
    }
   ],
   "source": [
    "plt.scatter(cereal['calories'], cereal['rating'])"
   ]
  },
  {
   "cell_type": "markdown",
   "id": "980c8ebd",
   "metadata": {},
   "source": [
    "## Heatmap"
   ]
  },
  {
   "cell_type": "code",
   "execution_count": 191,
   "id": "da441013",
   "metadata": {},
   "outputs": [
    {
     "data": {
      "image/png": "[encoded data removed]",
      "text/plain": [
       "<Figure size 640x480 with 2 Axes>"
      ]
     },
     "metadata": {},
     "output_type": "display_data"
    }
   ],
   "source": [
    "data = cereal[['calories','protein','fat', 'sodium', 'fiber','carbo','sugars','potass','vitamins','shelf','weight','cups','rating']]\n",
    "sea.heatmap(data)\n",
    "plt.title ('Heatmap for Cereals')\n",
    "plt.show()"
   ]
  },
  {
   "cell_type": "code",
   "execution_count": 194,
   "id": "534ea836",
   "metadata": {},
   "outputs": [
    {
     "data": {
      "image/png": "[encoded data removed]",
      "text/plain": [
       "<Figure size 1000x900 with 2 Axes>"
      ]
     },
     "metadata": {},
     "output_type": "display_data"
    }
   ],
   "source": [
    "data = cereal[['calories','protein','fat', 'sodium', 'fiber','carbo','sugars','potass','vitamins','shelf','weight','cups','rating']].corr(method='pearson')\n",
    "sea.set (rc = {'figure.figsize':(10, 9)})\n",
    "sea.heatmap(data, annot =True, linewidth=.5)\n",
    "plt.title ('Correlation Coefficient for Cereals')\n",
    "plt.show()"
   ]
  },
  {
   "cell_type": "markdown",
   "id": "9c1affd4",
   "metadata": {},
   "source": [
    "# Reflections"
   ]
  },
  {
   "cell_type": "markdown",
   "id": "eee32106",
   "metadata": {},
   "source": [
    "1.\tReflections on your learnings between this assignment and the previous one.\n",
    "After using both Python and Excel for data analysis, I learned that Python provides greater control and flexibility over the data analysis process than Excel. Excel is restricted to using built-in functions and formulas, but Python allows you to create your own functions and algorithms. Also, Python has a steeper learning curve since it takes some programming skills, but Excel is more approachable and simpler to learn.\n",
    "\n",
    "2.\tWhat was different between Python and Excel? When will you use either of them? \n",
    "Excel is a spreadsheet program that is generally used by non-programmers for data analysis. Excel offers a user-friendly interface for organizing and your analysing data, it also has a variety of built-in formulas and functions that may be used to alter and interpret data. Excel works well with smaller datasets and straightforward data analysis tasks. Python, on the other hand, is used for a wide range of activities, including data processing. Python is better suited for larger and more complex data analysis jobs that call for more sophisticated programming and statistical analysis approaches.\n",
    "\n",
    "3.\tIf you could do this assignment over, what would you do differently? What are the gaps in your programming or stats knowledge?\n",
    "Before performing my analysis, I had forgotten to ensure that the data is clean, complete, and properly formatted. Which involves techniques such as handling missing data, dealing with outliers, and transforming variables. So, I lacked to understand data cleaning and preparation techniques.  But I was able to create my own functions and algorithms to clean my data when I was computing the calculations. \n"
   ]
  },
  {
   "cell_type": "markdown",
   "id": "9c5937c9",
   "metadata": {},
   "source": [
    "### GIthub link\n",
    "https://github.com/SybillM/Learning-From-Data "
   ]
  },
  {
   "cell_type": "code",
   "execution_count": null,
   "id": "3c0f4687",
   "metadata": {},
   "outputs": [],
   "source": []
  }
 ],
 "metadata": {
  "kernelspec": {
   "display_name": "Python 3 (ipykernel)",
   "language": "python",
   "name": "python3"
  },
  "language_info": {
   "codemirror_mode": {
    "name": "ipython",
    "version": 3
   },
   "file_extension": ".py",
   "mimetype": "text/x-python",
   "name": "python",
   "nbconvert_exporter": "python",
   "pygments_lexer": "ipython3",
   "version": "3.11.3"
  }
 },
 "nbformat": 4,
 "nbformat_minor": 5
}
